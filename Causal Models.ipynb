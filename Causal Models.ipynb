{
 "cells": [
  {
   "cell_type": "code",
   "execution_count": 166,
   "id": "ecbbbdd6",
   "metadata": {},
   "outputs": [],
   "source": [
    "import numpy as np\n",
    "import matplotlib.pyplot as plt\n",
    "import math\n",
    "import random\n",
    "import pandas as pd"
   ]
  },
  {
   "cell_type": "markdown",
   "id": "22979902",
   "metadata": {},
   "source": [
    "## Causally Suggestive Data- Fruits"
   ]
  },
  {
   "cell_type": "code",
   "execution_count": 521,
   "id": "6c386a4d",
   "metadata": {},
   "outputs": [],
   "source": [
    "colors = \"red purple blue green\".split()\n",
    "textures = \"smooth spiky rough\".split()\n",
    "shapes = \"sphere cube star\".split()\n",
    "\n",
    "class Fruit: # attributes: color, texture, shape\n",
    "    def __init__(self, color, texture, shape, poison_func):\n",
    "        assert color in colors, \"Invalid color\"\n",
    "        assert texture in textures, \"Invalid texture\"\n",
    "        assert shape in shapes, \"Invalid shape\"\n",
    "        self.color = color\n",
    "        self.texture = texture\n",
    "        self.shape = shape\n",
    "        self.poison_func = poison_func\n",
    "    \n",
    "    def __str__(self):\n",
    "        return(f\"{self.color} {self.texture} {self.shape}\")\n",
    "    def __repr__(self):\n",
    "        return(f\"{self.color} {self.texture} {self.shape}\")\n",
    "    \n",
    "    def is_poisonous(self): # establish ground truth about fruit based on attributes. \n",
    "        # Here select that spiky fruits poisonous\n",
    "        return(self.poison_func(self))\n",
    "    \n",
    "    def to_row(self):\n",
    "        # convert to one hot encoding of fruit that can be added to dataframe as row\n",
    "        return([colors.index(self.color), textures.index(self.texture), shapes.index(self.shape), int(self.is_poisonous())])\n",
    "    \n",
    "    @staticmethod\n",
    "    def generate_random(poison_func): \n",
    "        color = colors[random.randint(0, len(colors)-1)]\n",
    "        texture = textures[random.randint(0, len(textures)-1)]\n",
    "        shape = shapes[random.randint(0, len(shapes)-1)]\n",
    "        return(Fruit(color, texture, shape, poison_func))\n",
    "    \n"
   ]
  },
  {
   "cell_type": "code",
   "execution_count": 523,
   "id": "1636ed66",
   "metadata": {},
   "outputs": [],
   "source": [
    "def is_poisonous(fruit): # establish ground truth about fruit based on attributes. \n",
    "    # Here select that spiky fruits poisonous\n",
    "    return(fruit.texture == \"spiky\")\n"
   ]
  },
  {
   "cell_type": "code",
   "execution_count": 524,
   "id": "61d49356",
   "metadata": {},
   "outputs": [],
   "source": [
    "apple = Fruit1(\"red\", \"spiky\", \"sphere\", is_poisonous)"
   ]
  },
  {
   "cell_type": "code",
   "execution_count": 525,
   "id": "c3ccc7c4",
   "metadata": {},
   "outputs": [
    {
     "data": {
      "text/plain": [
       "True"
      ]
     },
     "execution_count": 525,
     "metadata": {},
     "output_type": "execute_result"
    }
   ],
   "source": [
    "apple.is_poisonous()"
   ]
  },
  {
   "cell_type": "code",
   "execution_count": 537,
   "id": "92d0b78d",
   "metadata": {},
   "outputs": [
    {
     "name": "stdout",
     "output_type": "stream",
     "text": [
      "purple spiky star\n"
     ]
    },
    {
     "data": {
      "text/plain": [
       "True"
      ]
     },
     "execution_count": 537,
     "metadata": {},
     "output_type": "execute_result"
    }
   ],
   "source": [
    "f = Fruit.generate_random(is_poisonous)\n",
    "print(f)\n",
    "f.is_poisonous()"
   ]
  },
  {
   "cell_type": "code",
   "execution_count": 483,
   "id": "90053e16",
   "metadata": {},
   "outputs": [],
   "source": [
    "df = pd.DataFrame(columns=\"colors textures shapes poisonous\".split())"
   ]
  },
  {
   "cell_type": "code",
   "execution_count": 484,
   "id": "076caf32",
   "metadata": {},
   "outputs": [],
   "source": [
    "df = pd.DataFrame(columns=\"colors textures shapes poisonous\".split())\n",
    "def add_data(poison_func, n=10, df=None):\n",
    "    if not df:\n",
    "        df = pd.DataFrame(columns=\"colors textures shapes poisonous\".split())\n",
    "    for i in range(n):\n",
    "        fruit = Fruit.generate_random(poison_func)\n",
    "        df.loc[len(df.index)] = [colors.index(fruit.color), textures.index(fruit.texture), shapes.index(fruit.shape), int(fruit.is_poisonous())]\n",
    "    return(df)"
   ]
  },
  {
   "cell_type": "code",
   "execution_count": 485,
   "id": "683b223c",
   "metadata": {},
   "outputs": [
    {
     "data": {
      "text/html": [
       "<div>\n",
       "<style scoped>\n",
       "    .dataframe tbody tr th:only-of-type {\n",
       "        vertical-align: middle;\n",
       "    }\n",
       "\n",
       "    .dataframe tbody tr th {\n",
       "        vertical-align: top;\n",
       "    }\n",
       "\n",
       "    .dataframe thead th {\n",
       "        text-align: right;\n",
       "    }\n",
       "</style>\n",
       "<table border=\"1\" class=\"dataframe\">\n",
       "  <thead>\n",
       "    <tr style=\"text-align: right;\">\n",
       "      <th></th>\n",
       "      <th>colors</th>\n",
       "      <th>textures</th>\n",
       "      <th>shapes</th>\n",
       "      <th>poisonous</th>\n",
       "    </tr>\n",
       "  </thead>\n",
       "  <tbody>\n",
       "    <tr>\n",
       "      <th>0</th>\n",
       "      <td>2</td>\n",
       "      <td>1</td>\n",
       "      <td>1</td>\n",
       "      <td>0</td>\n",
       "    </tr>\n",
       "    <tr>\n",
       "      <th>1</th>\n",
       "      <td>2</td>\n",
       "      <td>1</td>\n",
       "      <td>1</td>\n",
       "      <td>0</td>\n",
       "    </tr>\n",
       "    <tr>\n",
       "      <th>2</th>\n",
       "      <td>2</td>\n",
       "      <td>0</td>\n",
       "      <td>2</td>\n",
       "      <td>0</td>\n",
       "    </tr>\n",
       "    <tr>\n",
       "      <th>3</th>\n",
       "      <td>0</td>\n",
       "      <td>1</td>\n",
       "      <td>1</td>\n",
       "      <td>1</td>\n",
       "    </tr>\n",
       "    <tr>\n",
       "      <th>4</th>\n",
       "      <td>3</td>\n",
       "      <td>0</td>\n",
       "      <td>2</td>\n",
       "      <td>0</td>\n",
       "    </tr>\n",
       "    <tr>\n",
       "      <th>5</th>\n",
       "      <td>3</td>\n",
       "      <td>1</td>\n",
       "      <td>2</td>\n",
       "      <td>0</td>\n",
       "    </tr>\n",
       "    <tr>\n",
       "      <th>6</th>\n",
       "      <td>1</td>\n",
       "      <td>2</td>\n",
       "      <td>0</td>\n",
       "      <td>0</td>\n",
       "    </tr>\n",
       "    <tr>\n",
       "      <th>7</th>\n",
       "      <td>1</td>\n",
       "      <td>1</td>\n",
       "      <td>0</td>\n",
       "      <td>0</td>\n",
       "    </tr>\n",
       "    <tr>\n",
       "      <th>8</th>\n",
       "      <td>1</td>\n",
       "      <td>2</td>\n",
       "      <td>2</td>\n",
       "      <td>0</td>\n",
       "    </tr>\n",
       "    <tr>\n",
       "      <th>9</th>\n",
       "      <td>0</td>\n",
       "      <td>1</td>\n",
       "      <td>1</td>\n",
       "      <td>1</td>\n",
       "    </tr>\n",
       "  </tbody>\n",
       "</table>\n",
       "</div>"
      ],
      "text/plain": [
       "   colors  textures  shapes  poisonous\n",
       "0       2         1       1          0\n",
       "1       2         1       1          0\n",
       "2       2         0       2          0\n",
       "3       0         1       1          1\n",
       "4       3         0       2          0\n",
       "5       3         1       2          0\n",
       "6       1         2       0          0\n",
       "7       1         1       0          0\n",
       "8       1         2       2          0\n",
       "9       0         1       1          1"
      ]
     },
     "execution_count": 485,
     "metadata": {},
     "output_type": "execute_result"
    }
   ],
   "source": [
    "data = add_data(is_poisonous)\n",
    "data"
   ]
  },
  {
   "cell_type": "markdown",
   "id": "c7310a2c",
   "metadata": {},
   "source": [
    "# First Order Generalization: features"
   ]
  },
  {
   "cell_type": "code",
   "execution_count": 540,
   "id": "57477206",
   "metadata": {},
   "outputs": [
    {
     "data": {
      "text/html": [
       "<div>\n",
       "<style scoped>\n",
       "    .dataframe tbody tr th:only-of-type {\n",
       "        vertical-align: middle;\n",
       "    }\n",
       "\n",
       "    .dataframe tbody tr th {\n",
       "        vertical-align: top;\n",
       "    }\n",
       "\n",
       "    .dataframe thead th {\n",
       "        text-align: right;\n",
       "    }\n",
       "</style>\n",
       "<table border=\"1\" class=\"dataframe\">\n",
       "  <thead>\n",
       "    <tr style=\"text-align: right;\">\n",
       "      <th></th>\n",
       "      <th>colors</th>\n",
       "      <th>textures</th>\n",
       "      <th>shapes</th>\n",
       "      <th>poisonous</th>\n",
       "    </tr>\n",
       "  </thead>\n",
       "  <tbody>\n",
       "    <tr>\n",
       "      <th>0</th>\n",
       "      <td>1</td>\n",
       "      <td>1</td>\n",
       "      <td>2</td>\n",
       "      <td>1</td>\n",
       "    </tr>\n",
       "    <tr>\n",
       "      <th>1</th>\n",
       "      <td>3</td>\n",
       "      <td>1</td>\n",
       "      <td>1</td>\n",
       "      <td>1</td>\n",
       "    </tr>\n",
       "    <tr>\n",
       "      <th>2</th>\n",
       "      <td>3</td>\n",
       "      <td>0</td>\n",
       "      <td>1</td>\n",
       "      <td>0</td>\n",
       "    </tr>\n",
       "    <tr>\n",
       "      <th>3</th>\n",
       "      <td>2</td>\n",
       "      <td>2</td>\n",
       "      <td>0</td>\n",
       "      <td>0</td>\n",
       "    </tr>\n",
       "    <tr>\n",
       "      <th>4</th>\n",
       "      <td>3</td>\n",
       "      <td>1</td>\n",
       "      <td>0</td>\n",
       "      <td>1</td>\n",
       "    </tr>\n",
       "    <tr>\n",
       "      <th>5</th>\n",
       "      <td>1</td>\n",
       "      <td>1</td>\n",
       "      <td>1</td>\n",
       "      <td>1</td>\n",
       "    </tr>\n",
       "    <tr>\n",
       "      <th>6</th>\n",
       "      <td>1</td>\n",
       "      <td>0</td>\n",
       "      <td>1</td>\n",
       "      <td>0</td>\n",
       "    </tr>\n",
       "    <tr>\n",
       "      <th>7</th>\n",
       "      <td>0</td>\n",
       "      <td>2</td>\n",
       "      <td>2</td>\n",
       "      <td>0</td>\n",
       "    </tr>\n",
       "    <tr>\n",
       "      <th>8</th>\n",
       "      <td>0</td>\n",
       "      <td>0</td>\n",
       "      <td>0</td>\n",
       "      <td>0</td>\n",
       "    </tr>\n",
       "    <tr>\n",
       "      <th>9</th>\n",
       "      <td>3</td>\n",
       "      <td>2</td>\n",
       "      <td>1</td>\n",
       "      <td>0</td>\n",
       "    </tr>\n",
       "  </tbody>\n",
       "</table>\n",
       "</div>"
      ],
      "text/plain": [
       "   colors  textures  shapes  poisonous\n",
       "0       1         1       2          1\n",
       "1       3         1       1          1\n",
       "2       3         0       1          0\n",
       "3       2         2       0          0\n",
       "4       3         1       0          1\n",
       "5       1         1       1          1\n",
       "6       1         0       1          0\n",
       "7       0         2       2          0\n",
       "8       0         0       0          0\n",
       "9       3         2       1          0"
      ]
     },
     "execution_count": 540,
     "metadata": {},
     "output_type": "execute_result"
    }
   ],
   "source": [
    "def is_poisonous(fruit): \n",
    "    return(fruit.texture == \"spiky\")\n",
    "data = add_data(is_poisonous)\n",
    "data"
   ]
  },
  {
   "cell_type": "code",
   "execution_count": 490,
   "id": "af985844",
   "metadata": {},
   "outputs": [],
   "source": [
    "def filterPoison(df,value):\n",
    "    return(data[data['poisonous']==value].drop(['poisonous'], axis=1))"
   ]
  },
  {
   "cell_type": "code",
   "execution_count": 491,
   "id": "ddcdfa6c",
   "metadata": {},
   "outputs": [],
   "source": [
    "def NaiveProbabilities(data, y, y_label='poisonous'):\n",
    "    # posterior = prior * likelihood\n",
    "    df = data[data[y_label]==y].drop([y_label], axis=1)\n",
    "    count_y, num_features = df.shape\n",
    "    prior = count_y / data.shape[0] # P(Y), prior\n",
    "    max_length = max([len(eval(feature)) for feature in df.columns]) # 4\n",
    "    probs = np.zeros((max_length, num_features))\n",
    "    for index in range(num_features):\n",
    "        feature = df.columns[index]\n",
    "        col = df[feature]\n",
    "        for xj in range(max_length): # which feature value are we testing? P[Xi=xij | Y=y]; find range\n",
    "            probs[xj, index] = col[col==xj].size / count_y\n",
    "    return(pd.DataFrame(probs, columns=df.columns))"
   ]
  },
  {
   "cell_type": "code",
   "execution_count": 542,
   "id": "75ce1680",
   "metadata": {},
   "outputs": [
    {
     "data": {
      "text/html": [
       "<div>\n",
       "<style scoped>\n",
       "    .dataframe tbody tr th:only-of-type {\n",
       "        vertical-align: middle;\n",
       "    }\n",
       "\n",
       "    .dataframe tbody tr th {\n",
       "        vertical-align: top;\n",
       "    }\n",
       "\n",
       "    .dataframe thead th {\n",
       "        text-align: right;\n",
       "    }\n",
       "</style>\n",
       "<table border=\"1\" class=\"dataframe\">\n",
       "  <thead>\n",
       "    <tr style=\"text-align: right;\">\n",
       "      <th></th>\n",
       "      <th>colors</th>\n",
       "      <th>textures</th>\n",
       "      <th>shapes</th>\n",
       "    </tr>\n",
       "  </thead>\n",
       "  <tbody>\n",
       "    <tr>\n",
       "      <th>0</th>\n",
       "      <td>0.0</td>\n",
       "      <td>0.0</td>\n",
       "      <td>0.25</td>\n",
       "    </tr>\n",
       "    <tr>\n",
       "      <th>1</th>\n",
       "      <td>0.5</td>\n",
       "      <td>1.0</td>\n",
       "      <td>0.50</td>\n",
       "    </tr>\n",
       "    <tr>\n",
       "      <th>2</th>\n",
       "      <td>0.0</td>\n",
       "      <td>0.0</td>\n",
       "      <td>0.25</td>\n",
       "    </tr>\n",
       "    <tr>\n",
       "      <th>3</th>\n",
       "      <td>0.5</td>\n",
       "      <td>0.0</td>\n",
       "      <td>0.00</td>\n",
       "    </tr>\n",
       "  </tbody>\n",
       "</table>\n",
       "</div>"
      ],
      "text/plain": [
       "   colors  textures  shapes\n",
       "0     0.0       0.0    0.25\n",
       "1     0.5       1.0    0.50\n",
       "2     0.0       0.0    0.25\n",
       "3     0.5       0.0    0.00"
      ]
     },
     "execution_count": 542,
     "metadata": {},
     "output_type": "execute_result"
    }
   ],
   "source": [
    "probs = NaiveProbabilities(data, 1)\n",
    "probs"
   ]
  },
  {
   "cell_type": "code",
   "execution_count": 545,
   "id": "95d8e51a",
   "metadata": {},
   "outputs": [],
   "source": [
    "rows, cols = np.where(probs==0.25)"
   ]
  },
  {
   "cell_type": "code",
   "execution_count": 515,
   "id": "60e572bc",
   "metadata": {},
   "outputs": [
    {
     "data": {
      "text/plain": [
       "1.5"
      ]
     },
     "execution_count": 515,
     "metadata": {},
     "output_type": "execute_result"
    }
   ],
   "source": [
    "def Entropy(data, col_name):\n",
    "    col = data[col_name]\n",
    "    def H(p):\n",
    "        if(p==0):\n",
    "            return(0)\n",
    "        return(-1 * p * np.log2(p))\n",
    "    return(col.apply(H).sum())\n",
    "Entropy(probs, 'colors')"
   ]
  },
  {
   "cell_type": "code",
   "execution_count": 502,
   "id": "6581d78b",
   "metadata": {},
   "outputs": [],
   "source": [
    "def identify(fruit_data):\n",
    "    prob_0 = NaiveProbabilities(data, y=0)\n",
    "    prob_1 = NaiveProbabilities(data, y=1)\n",
    "    \n",
    "    entropies = {}\n",
    "    for col in prob_0.columns:\n",
    "        entropies[col] = [Entropy(prob_0, col)]\n",
    "        entropies[col].append(Entropy(prob_1, col))\n",
    "    var = ''\n",
    "    lowest_entropy = 10000\n",
    "    for col in prob_0.columns:\n",
    "        #print(f\"Testing {col}, champ {var}, with entropy {lowest_entropy}\")\n",
    "        if(sum(entropies[col]) < lowest_entropy):\n",
    "            lowest_entropy = sum(entropies[col])\n",
    "            var = col\n",
    "    return(var, entropies)"
   ]
  },
  {
   "cell_type": "code",
   "execution_count": 505,
   "id": "d8c0b23b",
   "metadata": {},
   "outputs": [],
   "source": []
  },
  {
   "cell_type": "code",
   "execution_count": 516,
   "id": "3a2cce50",
   "metadata": {},
   "outputs": [
    {
     "data": {
      "text/plain": [
       "('textures',\n",
       " {'colors': [1.3787834934861753, 0.9182958340544896],\n",
       "  'textures': [0.9852281360342515, 0.0],\n",
       "  'shapes': [1.4488156357251847, 0.9182958340544896]})"
      ]
     },
     "execution_count": 516,
     "metadata": {},
     "output_type": "execute_result"
    }
   ],
   "source": [
    "colors = \"red purple blue green\".split()\n",
    "textures = \"smooth spiky rough\".split()\n",
    "shapes = \"sphere cube star\".split()\n",
    "\n",
    "def is_poisonous(fruit): # test various different criterion for poison and see whether model identifies\n",
    "    return(fruit.texture == \"rough\")\n",
    "\n",
    "data = add_data(is_poisonous)\n",
    "identify(data)"
   ]
  },
  {
   "cell_type": "code",
   "execution_count": 390,
   "id": "581f35cd",
   "metadata": {},
   "outputs": [
    {
     "data": {
      "text/html": [
       "<div>\n",
       "<style scoped>\n",
       "    .dataframe tbody tr th:only-of-type {\n",
       "        vertical-align: middle;\n",
       "    }\n",
       "\n",
       "    .dataframe tbody tr th {\n",
       "        vertical-align: top;\n",
       "    }\n",
       "\n",
       "    .dataframe thead th {\n",
       "        text-align: right;\n",
       "    }\n",
       "</style>\n",
       "<table border=\"1\" class=\"dataframe\">\n",
       "  <thead>\n",
       "    <tr style=\"text-align: right;\">\n",
       "      <th></th>\n",
       "      <th>shapes</th>\n",
       "      <th>colors</th>\n",
       "      <th>textures</th>\n",
       "    </tr>\n",
       "  </thead>\n",
       "  <tbody>\n",
       "    <tr>\n",
       "      <th>0</th>\n",
       "      <td>1</td>\n",
       "      <td>0</td>\n",
       "      <td>2</td>\n",
       "    </tr>\n",
       "    <tr>\n",
       "      <th>3</th>\n",
       "      <td>0</td>\n",
       "      <td>0</td>\n",
       "      <td>2</td>\n",
       "    </tr>\n",
       "    <tr>\n",
       "      <th>5</th>\n",
       "      <td>1</td>\n",
       "      <td>1</td>\n",
       "      <td>0</td>\n",
       "    </tr>\n",
       "    <tr>\n",
       "      <th>6</th>\n",
       "      <td>0</td>\n",
       "      <td>3</td>\n",
       "      <td>0</td>\n",
       "    </tr>\n",
       "    <tr>\n",
       "      <th>8</th>\n",
       "      <td>2</td>\n",
       "      <td>0</td>\n",
       "      <td>2</td>\n",
       "    </tr>\n",
       "    <tr>\n",
       "      <th>9</th>\n",
       "      <td>1</td>\n",
       "      <td>3</td>\n",
       "      <td>0</td>\n",
       "    </tr>\n",
       "  </tbody>\n",
       "</table>\n",
       "</div>"
      ],
      "text/plain": [
       "   shapes  colors  textures\n",
       "0       1       0         2\n",
       "3       0       0         2\n",
       "5       1       1         0\n",
       "6       0       3         0\n",
       "8       2       0         2\n",
       "9       1       3         0"
      ]
     },
     "execution_count": 390,
     "metadata": {},
     "output_type": "execute_result"
    }
   ],
   "source": [
    "filterPoison(data,0)"
   ]
  },
  {
   "cell_type": "code",
   "execution_count": 510,
   "id": "bfb7e08c",
   "metadata": {},
   "outputs": [
    {
     "data": {
      "text/html": [
       "<div>\n",
       "<style scoped>\n",
       "    .dataframe tbody tr th:only-of-type {\n",
       "        vertical-align: middle;\n",
       "    }\n",
       "\n",
       "    .dataframe tbody tr th {\n",
       "        vertical-align: top;\n",
       "    }\n",
       "\n",
       "    .dataframe thead th {\n",
       "        text-align: right;\n",
       "    }\n",
       "</style>\n",
       "<table border=\"1\" class=\"dataframe\">\n",
       "  <thead>\n",
       "    <tr style=\"text-align: right;\">\n",
       "      <th></th>\n",
       "      <th>colors</th>\n",
       "      <th>textures</th>\n",
       "      <th>shapes</th>\n",
       "      <th>poisonous</th>\n",
       "    </tr>\n",
       "  </thead>\n",
       "  <tbody>\n",
       "    <tr>\n",
       "      <th>0</th>\n",
       "      <td>1</td>\n",
       "      <td>0</td>\n",
       "      <td>2</td>\n",
       "      <td>1</td>\n",
       "    </tr>\n",
       "    <tr>\n",
       "      <th>1</th>\n",
       "      <td>1</td>\n",
       "      <td>0</td>\n",
       "      <td>1</td>\n",
       "      <td>0</td>\n",
       "    </tr>\n",
       "    <tr>\n",
       "      <th>2</th>\n",
       "      <td>1</td>\n",
       "      <td>2</td>\n",
       "      <td>1</td>\n",
       "      <td>0</td>\n",
       "    </tr>\n",
       "    <tr>\n",
       "      <th>3</th>\n",
       "      <td>0</td>\n",
       "      <td>2</td>\n",
       "      <td>2</td>\n",
       "      <td>1</td>\n",
       "    </tr>\n",
       "    <tr>\n",
       "      <th>4</th>\n",
       "      <td>0</td>\n",
       "      <td>1</td>\n",
       "      <td>1</td>\n",
       "      <td>0</td>\n",
       "    </tr>\n",
       "    <tr>\n",
       "      <th>5</th>\n",
       "      <td>2</td>\n",
       "      <td>2</td>\n",
       "      <td>2</td>\n",
       "      <td>1</td>\n",
       "    </tr>\n",
       "    <tr>\n",
       "      <th>6</th>\n",
       "      <td>0</td>\n",
       "      <td>0</td>\n",
       "      <td>0</td>\n",
       "      <td>0</td>\n",
       "    </tr>\n",
       "    <tr>\n",
       "      <th>7</th>\n",
       "      <td>2</td>\n",
       "      <td>0</td>\n",
       "      <td>1</td>\n",
       "      <td>0</td>\n",
       "    </tr>\n",
       "    <tr>\n",
       "      <th>8</th>\n",
       "      <td>2</td>\n",
       "      <td>2</td>\n",
       "      <td>0</td>\n",
       "      <td>0</td>\n",
       "    </tr>\n",
       "    <tr>\n",
       "      <th>9</th>\n",
       "      <td>2</td>\n",
       "      <td>0</td>\n",
       "      <td>2</td>\n",
       "      <td>1</td>\n",
       "    </tr>\n",
       "  </tbody>\n",
       "</table>\n",
       "</div>"
      ],
      "text/plain": [
       "   colors  textures  shapes  poisonous\n",
       "0       1         0       2          1\n",
       "1       1         0       1          0\n",
       "2       1         2       1          0\n",
       "3       0         2       2          1\n",
       "4       0         1       1          0\n",
       "5       2         2       2          1\n",
       "6       0         0       0          0\n",
       "7       2         0       1          0\n",
       "8       2         2       0          0\n",
       "9       2         0       2          1"
      ]
     },
     "execution_count": 510,
     "metadata": {},
     "output_type": "execute_result"
    }
   ],
   "source": [
    "data"
   ]
  },
  {
   "cell_type": "code",
   "execution_count": 561,
   "id": "95efb24e",
   "metadata": {},
   "outputs": [
    {
     "data": {
      "text/plain": [
       "['red', 'purple', 'blue', 'green']"
      ]
     },
     "execution_count": 561,
     "metadata": {},
     "output_type": "execute_result"
    }
   ],
   "source": [
    "colors"
   ]
  },
  {
   "cell_type": "code",
   "execution_count": 560,
   "id": "f4648738",
   "metadata": {},
   "outputs": [
    {
     "data": {
      "text/html": [
       "<div>\n",
       "<style scoped>\n",
       "    .dataframe tbody tr th:only-of-type {\n",
       "        vertical-align: middle;\n",
       "    }\n",
       "\n",
       "    .dataframe tbody tr th {\n",
       "        vertical-align: top;\n",
       "    }\n",
       "\n",
       "    .dataframe thead th {\n",
       "        text-align: right;\n",
       "    }\n",
       "</style>\n",
       "<table border=\"1\" class=\"dataframe\">\n",
       "  <thead>\n",
       "    <tr style=\"text-align: right;\">\n",
       "      <th></th>\n",
       "      <th>colors</th>\n",
       "      <th>textures</th>\n",
       "      <th>shapes</th>\n",
       "      <th>poisonous</th>\n",
       "    </tr>\n",
       "  </thead>\n",
       "  <tbody>\n",
       "    <tr>\n",
       "      <th>7</th>\n",
       "      <td>0</td>\n",
       "      <td>2</td>\n",
       "      <td>2</td>\n",
       "      <td>0</td>\n",
       "    </tr>\n",
       "    <tr>\n",
       "      <th>8</th>\n",
       "      <td>0</td>\n",
       "      <td>0</td>\n",
       "      <td>0</td>\n",
       "      <td>0</td>\n",
       "    </tr>\n",
       "  </tbody>\n",
       "</table>\n",
       "</div>"
      ],
      "text/plain": [
       "   colors  textures  shapes  poisonous\n",
       "7       0         2       2          0\n",
       "8       0         0       0          0"
      ]
     },
     "execution_count": 560,
     "metadata": {},
     "output_type": "execute_result"
    }
   ],
   "source": [
    "data[data['colors']==0]"
   ]
  },
  {
   "cell_type": "code",
   "execution_count": 556,
   "id": "537b0993",
   "metadata": {
    "scrolled": true
   },
   "outputs": [
    {
     "data": {
      "text/html": [
       "<div>\n",
       "<style scoped>\n",
       "    .dataframe tbody tr th:only-of-type {\n",
       "        vertical-align: middle;\n",
       "    }\n",
       "\n",
       "    .dataframe tbody tr th {\n",
       "        vertical-align: top;\n",
       "    }\n",
       "\n",
       "    .dataframe thead th {\n",
       "        text-align: right;\n",
       "    }\n",
       "</style>\n",
       "<table border=\"1\" class=\"dataframe\">\n",
       "  <thead>\n",
       "    <tr style=\"text-align: right;\">\n",
       "      <th></th>\n",
       "      <th>colors</th>\n",
       "      <th>textures</th>\n",
       "      <th>shapes</th>\n",
       "    </tr>\n",
       "  </thead>\n",
       "  <tbody>\n",
       "    <tr>\n",
       "      <th>0</th>\n",
       "      <td>0.0</td>\n",
       "      <td>0.0</td>\n",
       "      <td>0.25</td>\n",
       "    </tr>\n",
       "    <tr>\n",
       "      <th>1</th>\n",
       "      <td>0.5</td>\n",
       "      <td>1.0</td>\n",
       "      <td>0.50</td>\n",
       "    </tr>\n",
       "    <tr>\n",
       "      <th>2</th>\n",
       "      <td>0.0</td>\n",
       "      <td>0.0</td>\n",
       "      <td>0.25</td>\n",
       "    </tr>\n",
       "    <tr>\n",
       "      <th>3</th>\n",
       "      <td>0.5</td>\n",
       "      <td>0.0</td>\n",
       "      <td>0.00</td>\n",
       "    </tr>\n",
       "  </tbody>\n",
       "</table>\n",
       "</div>"
      ],
      "text/plain": [
       "   colors  textures  shapes\n",
       "0     0.0       0.0    0.25\n",
       "1     0.5       1.0    0.50\n",
       "2     0.0       0.0    0.25\n",
       "3     0.5       0.0    0.00"
      ]
     },
     "execution_count": 556,
     "metadata": {},
     "output_type": "execute_result"
    }
   ],
   "source": [
    "probs = NaiveProbabilities(data, y=1)\n",
    "probs"
   ]
  },
  {
   "cell_type": "code",
   "execution_count": 557,
   "id": "99c9813b",
   "metadata": {},
   "outputs": [
    {
     "data": {
      "text/html": [
       "<div>\n",
       "<style scoped>\n",
       "    .dataframe tbody tr th:only-of-type {\n",
       "        vertical-align: middle;\n",
       "    }\n",
       "\n",
       "    .dataframe tbody tr th {\n",
       "        vertical-align: top;\n",
       "    }\n",
       "\n",
       "    .dataframe thead th {\n",
       "        text-align: right;\n",
       "    }\n",
       "</style>\n",
       "<table border=\"1\" class=\"dataframe\">\n",
       "  <thead>\n",
       "    <tr style=\"text-align: right;\">\n",
       "      <th></th>\n",
       "      <th>colors</th>\n",
       "      <th>textures</th>\n",
       "      <th>shapes</th>\n",
       "    </tr>\n",
       "  </thead>\n",
       "  <tbody>\n",
       "    <tr>\n",
       "      <th>0</th>\n",
       "      <td>False</td>\n",
       "      <td>False</td>\n",
       "      <td>False</td>\n",
       "    </tr>\n",
       "    <tr>\n",
       "      <th>1</th>\n",
       "      <td>True</td>\n",
       "      <td>False</td>\n",
       "      <td>True</td>\n",
       "    </tr>\n",
       "    <tr>\n",
       "      <th>2</th>\n",
       "      <td>False</td>\n",
       "      <td>False</td>\n",
       "      <td>False</td>\n",
       "    </tr>\n",
       "    <tr>\n",
       "      <th>3</th>\n",
       "      <td>True</td>\n",
       "      <td>False</td>\n",
       "      <td>False</td>\n",
       "    </tr>\n",
       "  </tbody>\n",
       "</table>\n",
       "</div>"
      ],
      "text/plain": [
       "   colors  textures  shapes\n",
       "0   False     False   False\n",
       "1    True     False    True\n",
       "2   False     False   False\n",
       "3    True     False   False"
      ]
     },
     "execution_count": 557,
     "metadata": {},
     "output_type": "execute_result"
    }
   ],
   "source": [
    "probs==0.5"
   ]
  },
  {
   "cell_type": "code",
   "execution_count": 558,
   "id": "1c7d407a",
   "metadata": {},
   "outputs": [
    {
     "data": {
      "text/plain": [
       "(array([1, 1, 3]), array([0, 2, 0]))"
      ]
     },
     "execution_count": 558,
     "metadata": {},
     "output_type": "execute_result"
    }
   ],
   "source": [
    "np.where(probs==0.5)"
   ]
  },
  {
   "cell_type": "code",
   "execution_count": 342,
   "id": "7881d043",
   "metadata": {},
   "outputs": [],
   "source": [
    "def NaiveClassProbability(x, y, data, Y):\n",
    "    # computes term P(X=x | y) * P(y)\n",
    "    df = data[data[Y]==y].drop([Y], axis=1)\n",
    "    count_y, num_features = df.shape\n",
    "    prior = count_y / train.shape[0]\n",
    "    log_prob = 0\n",
    "    # presumably, x is some kind of iterable / vector. Iterate over each component\n",
    "    for index in range(num_features):\n",
    "        col = df[df.columns[index]]\n",
    "        xi = np.array(x)[index] # so works regardless of whether x is pd.series or numpy\n",
    "        #estimate P(Xi=xi | Y=y) as percent of rows within df where Xi=xi\n",
    "        log_prob += np.log(col[col==xi].size / count_y)\n",
    "    \n",
    "    return(np.log(prior) + log_prob)\n",
    "\n",
    "def NaiveBayes(x, data, Y='poisonous'):\n",
    "    p0 = NaiveClassProbability(x, 0, data, Y)\n",
    "    p1 = NaiveClassProbability(x, 1, data, Y)\n",
    "    if(p0>p1):\n",
    "        return(0)\n",
    "    return(1)"
   ]
  },
  {
   "cell_type": "code",
   "execution_count": null,
   "id": "d06ff03a",
   "metadata": {},
   "outputs": [],
   "source": [
    "NaiveBayes([])"
   ]
  },
  {
   "cell_type": "code",
   "execution_count": null,
   "id": "6ed390ca",
   "metadata": {},
   "outputs": [],
   "source": []
  },
  {
   "cell_type": "code",
   "execution_count": null,
   "id": "ab09dbc7",
   "metadata": {},
   "outputs": [],
   "source": []
  },
  {
   "cell_type": "code",
   "execution_count": null,
   "id": "dff9ae72",
   "metadata": {},
   "outputs": [],
   "source": []
  },
  {
   "cell_type": "markdown",
   "id": "fd051fd6",
   "metadata": {},
   "source": [
    "# Pearl, DAGs "
   ]
  },
  {
   "cell_type": "code",
   "execution_count": 118,
   "id": "295e3edf",
   "metadata": {},
   "outputs": [],
   "source": [
    "class CausalLink:\n",
    "    def __init__(self, source, sink):\n",
    "        # directed edge from v1 to v2, indicating one-way causality\n",
    "        assert source != sink\n",
    "        self.cause = source\n",
    "        self.effect = sink\n",
    "    def __repr__(self):\n",
    "        return(f\"{self.__class__}::{self.cause}-->{self.effect}\")\n",
    "    def __str__(self):\n",
    "        return(f\"{self.cause}-->{self.effect}\")\n",
    "    \n",
    "\n",
    "class Feature:\n",
    "    def __init__(self, name, data=0):\n",
    "        self.parents = [] # edges where Feature is the effect\n",
    "        self.children = []# edges where Feature is the cause\n",
    "        self.data = data\n",
    "        self.name = name\n",
    "\n",
    "    def add_parent(self, node):\n",
    "        if(node not in self.parents):\n",
    "            self.parents.append(node)\n",
    "    def add_child(self, node):\n",
    "        if(node not in self.children):\n",
    "            self.children.append(node)\n",
    "    def in_degree(self):\n",
    "        return(len(self.parents))\n",
    "    def out_degree(self):\n",
    "        return(len(self.children))\n",
    "    \n",
    "    def __repr__(self):\n",
    "        return(f\"{self.__class__}::{self.name}\")\n",
    "    def __str__(self):\n",
    "        return(str(self.name))\n",
    "    \n",
    "    def __eq__(self, other):\n",
    "        return (self.data, self.name) == (other.data, other.name)\n"
   ]
  },
  {
   "cell_type": "code",
   "execution_count": 114,
   "id": "d11f7dae",
   "metadata": {},
   "outputs": [],
   "source": [
    "class CausalGraph:\n",
    "    def __init__(self):\n",
    "        self.vertices = []\n",
    "        self.edges = []\n",
    "    \n",
    "    def addNode(self, name):\n",
    "        vertex = Feature(name)\n",
    "        self.vertices.append(vertex)\n",
    "    \n",
    "    def addNodes(self, names):\n",
    "        for name in names.split():\n",
    "            self.addNode(name)\n",
    "    \n",
    "    def getNode(self, name):\n",
    "        for vertex in self.vertices:\n",
    "            if(vertex.name == name):\n",
    "                return vertex\n",
    "        return(None)\n",
    "    \n",
    "    def __str__(self):\n",
    "        result = \"[\"\n",
    "        for v in self.vertices:\n",
    "            result += str(v) + \", \"\n",
    "        result += \"]\\n\"\n",
    "        for edge in self.edges:\n",
    "            result = result + str(edge) + \"\\n\"\n",
    "        return(result)\n",
    "    \n",
    "    def addEdge(self, name_1, name_2):\n",
    "        source, sink = self.getNode(name_1), self.getNode(name_2)\n",
    "        if(source and sink): # both exist as valid vertices\n",
    "            edge = CausalLink(source, sink)\n",
    "            self.edges.append(edge)\n",
    "\n",
    "            source.add_child(sink)\n",
    "            sink.add_parent(source)\n",
    "        else:\n",
    "            print(\"Invalid\")\n",
    "    \n",
    "    "
   ]
  },
  {
   "cell_type": "code",
   "execution_count": 549,
   "id": "e4227e07",
   "metadata": {},
   "outputs": [],
   "source": [
    "G = CausalGraph()\n",
    "G.addNodes(\"shape texture color poisonous\")"
   ]
  },
  {
   "cell_type": "code",
   "execution_count": 551,
   "id": "c0d18301",
   "metadata": {},
   "outputs": [
    {
     "data": {
      "text/plain": [
       "[<class '__main__.Feature'>::shape,\n",
       " <class '__main__.Feature'>::texture,\n",
       " <class '__main__.Feature'>::color,\n",
       " <class '__main__.Feature'>::poisonous]"
      ]
     },
     "execution_count": 551,
     "metadata": {},
     "output_type": "execute_result"
    }
   ],
   "source": [
    "G.vertices"
   ]
  },
  {
   "cell_type": "code",
   "execution_count": 116,
   "id": "f4975599",
   "metadata": {},
   "outputs": [],
   "source": [
    "G.addEdge(\"shape\", \"texture\")\n",
    "G.addEdge(\"kind\", \"shape\")\n",
    "G.addEdge(\"kind\", \"color\")\n",
    "G.addEdge(\"texture\", \"poison\")\n",
    "G.addEdge('shape', \"poison\")"
   ]
  },
  {
   "cell_type": "code",
   "execution_count": 190,
   "id": "309745e3",
   "metadata": {},
   "outputs": [
    {
     "name": "stdout",
     "output_type": "stream",
     "text": [
      "[shape, texture, kind, color, poison, ]\n",
      "shape-->texture\n",
      "kind-->shape\n",
      "kind-->color\n",
      "texture-->poison\n",
      "shape-->poison\n",
      "\n"
     ]
    }
   ],
   "source": [
    "print(G)"
   ]
  },
  {
   "cell_type": "code",
   "execution_count": 117,
   "id": "c0f111aa",
   "metadata": {
    "scrolled": true
   },
   "outputs": [
    {
     "data": {
      "text/plain": [
       "[<class '__main__.Feature'>:: texture, <class '__main__.Feature'>:: poison]"
      ]
     },
     "execution_count": 117,
     "metadata": {},
     "output_type": "execute_result"
    }
   ],
   "source": [
    "G.getNode(\"shape\").children"
   ]
  },
  {
   "cell_type": "code",
   "execution_count": 69,
   "id": "1d83f29f",
   "metadata": {},
   "outputs": [],
   "source": [
    "f2 = Feature(\"shape\")"
   ]
  },
  {
   "cell_type": "code",
   "execution_count": 70,
   "id": "bd0ba35a",
   "metadata": {},
   "outputs": [],
   "source": [
    "f3 = Feature(\"poison\")\n",
    "f4 = Feature(\"kind\")"
   ]
  },
  {
   "cell_type": "code",
   "execution_count": 71,
   "id": "21db43b0",
   "metadata": {},
   "outputs": [],
   "source": [
    "e12 = CausalLink(source=f1, sink=f2)\n",
    "e13 = CausalLink(source=f1, sink=f3)\n",
    "e41 = CausalLink(f4, f1)"
   ]
  },
  {
   "cell_type": "code",
   "execution_count": 72,
   "id": "295f5f57",
   "metadata": {},
   "outputs": [],
   "source": [
    "f1.add_edge(e12)\n",
    "f1.add_edge(e13)\n",
    "f1.add_edge(e41)"
   ]
  },
  {
   "cell_type": "code",
   "execution_count": 74,
   "id": "0e26d814",
   "metadata": {},
   "outputs": [
    {
     "data": {
      "text/plain": [
       "{<class '__main__.CausalLink'>, color-->poison,\n",
       " <class '__main__.CausalLink'>, color-->shape}"
      ]
     },
     "execution_count": 74,
     "metadata": {},
     "output_type": "execute_result"
    }
   ],
   "source": [
    "f1.children"
   ]
  },
  {
   "cell_type": "code",
   "execution_count": 22,
   "id": "cd17c4a5",
   "metadata": {},
   "outputs": [
    {
     "name": "stdout",
     "output_type": "stream",
     "text": [
      "shape\n"
     ]
    }
   ],
   "source": []
  },
  {
   "cell_type": "code",
   "execution_count": 26,
   "id": "a481cf23",
   "metadata": {},
   "outputs": [],
   "source": []
  },
  {
   "cell_type": "code",
   "execution_count": 28,
   "id": "021436aa",
   "metadata": {},
   "outputs": [
    {
     "name": "stdout",
     "output_type": "stream",
     "text": [
      "[color, texture, shape, poisonous, ]\n"
     ]
    }
   ],
   "source": [
    "G = CausalGraph()\n",
    "G.addNode(\"color\")\n",
    "G.addNode(\"texture\")\n",
    "G.addNode(\"shape\")\n",
    "G.addNode(\"poisonous\")\n",
    "print(G)"
   ]
  },
  {
   "cell_type": "code",
   "execution_count": null,
   "id": "5201feeb",
   "metadata": {},
   "outputs": [],
   "source": []
  }
 ],
 "metadata": {
  "kernelspec": {
   "display_name": "Python 3 (ipykernel)",
   "language": "python",
   "name": "python3"
  },
  "language_info": {
   "codemirror_mode": {
    "name": "ipython",
    "version": 3
   },
   "file_extension": ".py",
   "mimetype": "text/x-python",
   "name": "python",
   "nbconvert_exporter": "python",
   "pygments_lexer": "ipython3",
   "version": "3.10.10"
  }
 },
 "nbformat": 4,
 "nbformat_minor": 5
}
