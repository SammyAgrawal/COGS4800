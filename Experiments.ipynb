{
 "cells": [
  {
   "cell_type": "code",
   "execution_count": 1,
   "id": "1c69ee3c",
   "metadata": {},
   "outputs": [],
   "source": [
    "import numpy as np\n",
    "import matplotlib.pyplot as plt\n",
    "import math\n",
    "import random\n",
    "import pandas as pd"
   ]
  },
  {
   "cell_type": "markdown",
   "id": "91da82bd",
   "metadata": {},
   "source": [
    "# Experiment One"
   ]
  },
  {
   "cell_type": "code",
   "execution_count": 56,
   "id": "e7853887",
   "metadata": {},
   "outputs": [],
   "source": [
    "colors = \"red purple blue green\".split()\n",
    "textures = \"smooth spiky rough\".split()\n",
    "shapes = \"sphere cube star\".split()\n",
    "\n",
    "class Fruit: # attributes: color, texture, shape\n",
    "    def __init__(self, color, texture, shape, poison_func):\n",
    "        assert color in colors, \"Invalid color\"\n",
    "        assert texture in textures, \"Invalid texture\"\n",
    "        assert shape in shapes, \"Invalid shape\"\n",
    "        self.color = color\n",
    "        self.texture = texture\n",
    "        self.shape = shape\n",
    "        self.poison_func = poison_func\n",
    "    \n",
    "    def __str__(self):\n",
    "        return(f\"{self.color} {self.texture} {self.shape}\")\n",
    "    def __repr__(self):\n",
    "        return(f\"{self.color} {self.texture} {self.shape}\")\n",
    "        \n",
    "    \n",
    "    def is_poisonous(self): # establish ground truth about fruit based on attributes. \n",
    "        # Here select that spiky fruits poisonous\n",
    "        return(self.poison_func(self))\n",
    "    \n",
    "    def to_row(self):\n",
    "        # convert to one hot encoding of fruit that can be added to dataframe as row\n",
    "        return([colors.index(self.color), textures.index(self.texture), shapes.index(self.shape), int(self.is_poisonous())])\n",
    "    \n",
    "    @staticmethod\n",
    "    def generate_random(poison_func): \n",
    "        color = colors[random.randint(0, len(colors)-1)]\n",
    "        texture = textures[random.randint(0, len(textures)-1)]\n",
    "        shape = shapes[random.randint(0, len(shapes)-1)]\n",
    "        return(Fruit(color, texture, shape, poison_func))"
   ]
  },
  {
   "cell_type": "code",
   "execution_count": 82,
   "id": "6718e1d1",
   "metadata": {},
   "outputs": [],
   "source": [
    "def add_data(poison_func, n=10, df=None):\n",
    "    if not df:\n",
    "        df = pd.DataFrame(columns=\"colors textures shapes poisonous\".split())\n",
    "        df2 = pd.DataFrame(columns=\"colors textures shapes poisonous\".split())\n",
    "    for i in range(n):\n",
    "        fruit = Fruit.generate_random(poison_func)\n",
    "        df.loc[len(df.index)] = [colors.index(fruit.color), textures.index(fruit.texture), shapes.index(fruit.shape), int(fruit.is_poisonous())]\n",
    "        df2.loc[len(df.index)] = [fruit.color, fruit.texture, fruit.shape, int(fruit.is_poisonous())]\n",
    "    return(df)"
   ]
  },
  {
   "cell_type": "code",
   "execution_count": 83,
   "id": "5ed668de",
   "metadata": {},
   "outputs": [
    {
     "data": {
      "text/html": [
       "<div>\n",
       "<style scoped>\n",
       "    .dataframe tbody tr th:only-of-type {\n",
       "        vertical-align: middle;\n",
       "    }\n",
       "\n",
       "    .dataframe tbody tr th {\n",
       "        vertical-align: top;\n",
       "    }\n",
       "\n",
       "    .dataframe thead th {\n",
       "        text-align: right;\n",
       "    }\n",
       "</style>\n",
       "<table border=\"1\" class=\"dataframe\">\n",
       "  <thead>\n",
       "    <tr style=\"text-align: right;\">\n",
       "      <th></th>\n",
       "      <th>colors</th>\n",
       "      <th>textures</th>\n",
       "      <th>shapes</th>\n",
       "      <th>poisonous</th>\n",
       "    </tr>\n",
       "  </thead>\n",
       "  <tbody>\n",
       "    <tr>\n",
       "      <th>0</th>\n",
       "      <td>0</td>\n",
       "      <td>1</td>\n",
       "      <td>1</td>\n",
       "      <td>0</td>\n",
       "    </tr>\n",
       "    <tr>\n",
       "      <th>1</th>\n",
       "      <td>2</td>\n",
       "      <td>1</td>\n",
       "      <td>0</td>\n",
       "      <td>1</td>\n",
       "    </tr>\n",
       "    <tr>\n",
       "      <th>2</th>\n",
       "      <td>2</td>\n",
       "      <td>1</td>\n",
       "      <td>0</td>\n",
       "      <td>1</td>\n",
       "    </tr>\n",
       "    <tr>\n",
       "      <th>3</th>\n",
       "      <td>1</td>\n",
       "      <td>1</td>\n",
       "      <td>2</td>\n",
       "      <td>0</td>\n",
       "    </tr>\n",
       "    <tr>\n",
       "      <th>4</th>\n",
       "      <td>0</td>\n",
       "      <td>0</td>\n",
       "      <td>1</td>\n",
       "      <td>0</td>\n",
       "    </tr>\n",
       "    <tr>\n",
       "      <th>5</th>\n",
       "      <td>3</td>\n",
       "      <td>0</td>\n",
       "      <td>2</td>\n",
       "      <td>0</td>\n",
       "    </tr>\n",
       "    <tr>\n",
       "      <th>6</th>\n",
       "      <td>2</td>\n",
       "      <td>1</td>\n",
       "      <td>1</td>\n",
       "      <td>0</td>\n",
       "    </tr>\n",
       "    <tr>\n",
       "      <th>7</th>\n",
       "      <td>0</td>\n",
       "      <td>0</td>\n",
       "      <td>1</td>\n",
       "      <td>0</td>\n",
       "    </tr>\n",
       "    <tr>\n",
       "      <th>8</th>\n",
       "      <td>2</td>\n",
       "      <td>2</td>\n",
       "      <td>0</td>\n",
       "      <td>1</td>\n",
       "    </tr>\n",
       "    <tr>\n",
       "      <th>9</th>\n",
       "      <td>3</td>\n",
       "      <td>2</td>\n",
       "      <td>1</td>\n",
       "      <td>0</td>\n",
       "    </tr>\n",
       "  </tbody>\n",
       "</table>\n",
       "</div>"
      ],
      "text/plain": [
       "   colors  textures  shapes  poisonous\n",
       "0       0         1       1          0\n",
       "1       2         1       0          1\n",
       "2       2         1       0          1\n",
       "3       1         1       2          0\n",
       "4       0         0       1          0\n",
       "5       3         0       2          0\n",
       "6       2         1       1          0\n",
       "7       0         0       1          0\n",
       "8       2         2       0          1\n",
       "9       3         2       1          0"
      ]
     },
     "execution_count": 83,
     "metadata": {},
     "output_type": "execute_result"
    }
   ],
   "source": [
    "add_data(is_poisonous)"
   ]
  },
  {
   "cell_type": "code",
   "execution_count": 84,
   "id": "51e80aa5",
   "metadata": {},
   "outputs": [],
   "source": [
    "def NaiveProbabilities(data, y, y_label='poisonous'):\n",
    "    # posterior = prior * likelihood\n",
    "    df = data[data[y_label]==y].drop([y_label], axis=1)\n",
    "    count_y, num_features = df.shape\n",
    "    prior = count_y / data.shape[0] # P(Y), prior\n",
    "    max_length = max([len(eval(feature)) for feature in df.columns]) # 4\n",
    "    probs = np.zeros((max_length, num_features))\n",
    "    if(prior>0.0):\n",
    "        # if there are fruits of desired class (at least one poisonous)\n",
    "    \n",
    "        for index in range(num_features):\n",
    "            feature = df.columns[index]\n",
    "            col = df[feature]\n",
    "            for xj in range(max_length): # which feature value are we testing? P[Xi=xij | Y=y]; find range\n",
    "                probs[xj, index] = col[col==xj].size / count_y\n",
    "    \n",
    "    return(pd.DataFrame(probs, columns=df.columns))\n",
    "\n",
    "def Entropy(data, col_name):\n",
    "    col = data[col_name]\n",
    "    def H(p):\n",
    "        if(p==0):\n",
    "            return(0)\n",
    "        return(-1 * p * np.log2(p))\n",
    "    return(col.apply(H).sum())"
   ]
  },
  {
   "cell_type": "code",
   "execution_count": 85,
   "id": "a7ce190b",
   "metadata": {},
   "outputs": [],
   "source": [
    "def identify(fruit_data):\n",
    "    prob_0 = NaiveProbabilities(data, y=0)\n",
    "    prob_1 = NaiveProbabilities(data, y=1)\n",
    "    \n",
    "    entropies = {}\n",
    "    for col in prob_0.columns:\n",
    "        entropies[col] = [Entropy(prob_0, col)]\n",
    "        entropies[col].append(Entropy(prob_1, col))\n",
    "    var = ''\n",
    "    lowest_entropy = 10000\n",
    "    for col in prob_0.columns:\n",
    "        #print(f\"Testing {col}, champ {var}, with entropy {lowest_entropy}\")\n",
    "        if(sum(entropies[col]) < lowest_entropy):\n",
    "            lowest_entropy = sum(entropies[col])\n",
    "            var = col\n",
    "    return(var, entropies)"
   ]
  },
  {
   "cell_type": "code",
   "execution_count": 86,
   "id": "00f8601a",
   "metadata": {},
   "outputs": [
    {
     "data": {
      "text/html": [
       "<div>\n",
       "<style scoped>\n",
       "    .dataframe tbody tr th:only-of-type {\n",
       "        vertical-align: middle;\n",
       "    }\n",
       "\n",
       "    .dataframe tbody tr th {\n",
       "        vertical-align: top;\n",
       "    }\n",
       "\n",
       "    .dataframe thead th {\n",
       "        text-align: right;\n",
       "    }\n",
       "</style>\n",
       "<table border=\"1\" class=\"dataframe\">\n",
       "  <thead>\n",
       "    <tr style=\"text-align: right;\">\n",
       "      <th></th>\n",
       "      <th>colors</th>\n",
       "      <th>textures</th>\n",
       "      <th>shapes</th>\n",
       "      <th>poisonous</th>\n",
       "    </tr>\n",
       "  </thead>\n",
       "  <tbody>\n",
       "    <tr>\n",
       "      <th>0</th>\n",
       "      <td>3</td>\n",
       "      <td>1</td>\n",
       "      <td>0</td>\n",
       "      <td>1</td>\n",
       "    </tr>\n",
       "    <tr>\n",
       "      <th>1</th>\n",
       "      <td>0</td>\n",
       "      <td>0</td>\n",
       "      <td>0</td>\n",
       "      <td>0</td>\n",
       "    </tr>\n",
       "    <tr>\n",
       "      <th>2</th>\n",
       "      <td>0</td>\n",
       "      <td>0</td>\n",
       "      <td>1</td>\n",
       "      <td>0</td>\n",
       "    </tr>\n",
       "    <tr>\n",
       "      <th>3</th>\n",
       "      <td>0</td>\n",
       "      <td>2</td>\n",
       "      <td>1</td>\n",
       "      <td>0</td>\n",
       "    </tr>\n",
       "    <tr>\n",
       "      <th>4</th>\n",
       "      <td>1</td>\n",
       "      <td>2</td>\n",
       "      <td>0</td>\n",
       "      <td>0</td>\n",
       "    </tr>\n",
       "    <tr>\n",
       "      <th>5</th>\n",
       "      <td>2</td>\n",
       "      <td>1</td>\n",
       "      <td>0</td>\n",
       "      <td>1</td>\n",
       "    </tr>\n",
       "    <tr>\n",
       "      <th>6</th>\n",
       "      <td>3</td>\n",
       "      <td>0</td>\n",
       "      <td>2</td>\n",
       "      <td>0</td>\n",
       "    </tr>\n",
       "    <tr>\n",
       "      <th>7</th>\n",
       "      <td>2</td>\n",
       "      <td>2</td>\n",
       "      <td>1</td>\n",
       "      <td>0</td>\n",
       "    </tr>\n",
       "    <tr>\n",
       "      <th>8</th>\n",
       "      <td>1</td>\n",
       "      <td>2</td>\n",
       "      <td>0</td>\n",
       "      <td>0</td>\n",
       "    </tr>\n",
       "    <tr>\n",
       "      <th>9</th>\n",
       "      <td>1</td>\n",
       "      <td>1</td>\n",
       "      <td>1</td>\n",
       "      <td>1</td>\n",
       "    </tr>\n",
       "  </tbody>\n",
       "</table>\n",
       "</div>"
      ],
      "text/plain": [
       "   colors  textures  shapes  poisonous\n",
       "0       3         1       0          1\n",
       "1       0         0       0          0\n",
       "2       0         0       1          0\n",
       "3       0         2       1          0\n",
       "4       1         2       0          0\n",
       "5       2         1       0          1\n",
       "6       3         0       2          0\n",
       "7       2         2       1          0\n",
       "8       1         2       0          0\n",
       "9       1         1       1          1"
      ]
     },
     "execution_count": 86,
     "metadata": {},
     "output_type": "execute_result"
    }
   ],
   "source": [
    "colors = \"red purple blue green\".split()\n",
    "textures = \"smooth spiky rough\".split()\n",
    "shapes = \"sphere cube star\".split()\n",
    "\n",
    "def is_poisonous(fruit): \n",
    "    return(fruit.texture == \"spiky\")\n",
    "data = add_data(is_poisonous)\n",
    "data"
   ]
  },
  {
   "cell_type": "code",
   "execution_count": 87,
   "id": "92b643b5",
   "metadata": {},
   "outputs": [
    {
     "data": {
      "text/plain": [
       "('textures',\n",
       " {'colors': [1.8423709931771088, 1.584962500721156],\n",
       "  'textures': [0.9852281360342515, 0.0],\n",
       "  'shapes': [1.4488156357251847, 0.9182958340544896]})"
      ]
     },
     "execution_count": 87,
     "metadata": {},
     "output_type": "execute_result"
    }
   ],
   "source": [
    "identify(data)"
   ]
  },
  {
   "cell_type": "code",
   "execution_count": 88,
   "id": "718c15a1",
   "metadata": {},
   "outputs": [],
   "source": [
    "class CausalLink:\n",
    "    def __init__(self, source, sink):\n",
    "        # directed edge from v1 to v2, indicating one-way causality\n",
    "        assert source != sink\n",
    "        self.cause = source\n",
    "        self.effect = sink\n",
    "    def __repr__(self):\n",
    "        return(f\"{self.__class__}::{self.cause}-->{self.effect}\")\n",
    "    def __str__(self):\n",
    "        return(f\"{self.cause}-->{self.effect}\")\n",
    "    \n",
    "\n",
    "class Feature:\n",
    "    def __init__(self, name, data=0):\n",
    "        self.parents = [] # edges where Feature is the effect\n",
    "        self.children = []# edges where Feature is the cause\n",
    "        self.data = data # is going to either be conditional prob or mutual information\n",
    "        self.name = name\n",
    "\n",
    "    def add_parent(self, node):\n",
    "        if(node not in self.parents):\n",
    "            self.parents.append(node)\n",
    "    def add_child(self, node):\n",
    "        if(node not in self.children):\n",
    "            self.children.append(node)\n",
    "    def in_degree(self):\n",
    "        return(len(self.parents))\n",
    "    def out_degree(self):\n",
    "        return(len(self.children))\n",
    "    \n",
    "    def __repr__(self):\n",
    "        return(f\"{self.__class__}::{self.name}\")\n",
    "    def __str__(self):\n",
    "        return(str(self.name))\n",
    "    \n",
    "    def __eq__(self, other):\n",
    "        return (self.data, self.name) == (other.data, other.name)"
   ]
  },
  {
   "cell_type": "code",
   "execution_count": 89,
   "id": "dd3fa0e3",
   "metadata": {},
   "outputs": [],
   "source": [
    "class CausalGraph:\n",
    "    def __init__(self):\n",
    "        self.vertices = []\n",
    "        self.edges = []\n",
    "    \n",
    "    def addNode(self, name):\n",
    "        vertex = Feature(name)\n",
    "        self.vertices.append(vertex)\n",
    "    \n",
    "    def addNodes(self, names):\n",
    "        for name in names.split():\n",
    "            self.addNode(name)\n",
    "    \n",
    "    def getNode(self, name):\n",
    "        for vertex in self.vertices:\n",
    "            if(vertex.name == name):\n",
    "                return vertex\n",
    "        return(None)\n",
    "    \n",
    "    def __str__(self):\n",
    "        result = \"[\"\n",
    "        for v in self.vertices:\n",
    "            result += str(v) + \", \"\n",
    "        result += \"]\\n\"\n",
    "        for edge in self.edges:\n",
    "            result = result + str(edge) + \"\\n\"\n",
    "        return(result)\n",
    "    \n",
    "    def addEdge(self, name_1, name_2):\n",
    "        source, sink = self.getNode(name_1), self.getNode(name_2)\n",
    "        if(source and sink): # both exist as valid vertices\n",
    "            edge = CausalLink(source, sink)\n",
    "            self.edges.append(edge)\n",
    "\n",
    "            source.add_child(sink)\n",
    "            sink.add_parent(source)\n",
    "        else:\n",
    "            print(\"Invalid\")\n",
    "    \n",
    "    "
   ]
  },
  {
   "cell_type": "code",
   "execution_count": 90,
   "id": "6cf9f2bb",
   "metadata": {},
   "outputs": [
    {
     "data": {
      "text/plain": [
       "<__main__.CausalGraph at 0x7fccd0dd0ac0>"
      ]
     },
     "execution_count": 90,
     "metadata": {},
     "output_type": "execute_result"
    }
   ],
   "source": [
    "CausalGraph()"
   ]
  },
  {
   "cell_type": "markdown",
   "id": "2566e079",
   "metadata": {},
   "source": [
    "## Representation Structure "
   ]
  },
  {
   "cell_type": "code",
   "execution_count": 91,
   "id": "11b49ca0",
   "metadata": {},
   "outputs": [],
   "source": [
    "class HierarchicalModel:\n",
    "    def __init__(self, data, y_label='poisonous'):\n",
    "        # first level of knowledge, the direct observed sample probabilities (corresponding to the \"theta\")\n",
    "        self.LevelOne = { \n",
    "            0 : NaiveProbabilities(data, 0, y_label),\n",
    "            1 : NaiveProbabilities(data, 1, y_label),\n",
    "        }\n",
    "        \n",
    "        self.entropies = self.LearnCausalGraph()\n",
    "    \n",
    "    def LearnCausalGraph(self):\n",
    "        # learn level two overhypothesis based on Naive Conditional Probabilities\n",
    "        \n",
    "        ## Naive way - with L3 overhypothesis of one feature being causally relevant\n",
    "        prob_0 = self.LevelOne[0]\n",
    "        prob_1 = self.LevelOne[1]\n",
    "    \n",
    "        entropies = {}\n",
    "        for col in prob_0.columns:\n",
    "            entropies[col] = [Entropy(prob_0, col)]\n",
    "            entropies[col].append(Entropy(prob_1, col))\n",
    "        cause = ''\n",
    "        lowest_entropy = 100\n",
    "        for col in prob_0.columns:\n",
    "            #print(f\"Testing {col}, champ {var}, with entropy {lowest_entropy}\")\n",
    "            if(sum(entropies[col]) < lowest_entropy): # find feature with lowest information entropy\n",
    "                lowest_entropy = sum(entropies[col]) # adds up for both conditionals\n",
    "                cause = str(col)\n",
    "            elif(sum(entropies[col]) == lowest_entropy and cause!=''):\n",
    "                # two variables have exact same information entropy\n",
    "                cause += f\" {col}\"\n",
    "                \n",
    "        self.LevelTwo = CausalGraph()\n",
    "        self.LevelTwo.addNodes(\"colors textures shapes poisonous\")\n",
    "        for c in cause.split():\n",
    "            self.LevelTwo.addEdge(c, \"poisonous\")\n",
    "        return(entropies)\n",
    "    \n",
    "    def hypothesis(self): # represents the overhypothesis model has learned\n",
    "        # uses all levels of knowledge to posit what drives poisonous or not\n",
    "        causes = [edge.cause.name for edge in self.LevelTwo.edges]\n",
    "        cols = self.LevelOne[1][causes]\n",
    "        indices = np.where(cols==1.0)\n",
    "        if(len(indices[0])==1): # unambiguous - only one variable\n",
    "            return([[causes[0], eval(causes[0])[indices[0][0]]]])\n",
    "        if(len(indices[0])==0): # no poisonous fruit in data\n",
    "            return([[causes[0], \"unknown\"]])\n",
    "        if(len(indices[0])==2): # most sensible causal graph has two features\n",
    "            return([[causes[0], eval(causes[0])[indices[0][0]]], [causes[1], eval(causes[1])[indices[0][1]]]])\n",
    "    \n",
    "    def is_poisonous(self, fruit):\n",
    "        # using learned hierarchical model, guesses whether a given fruit is poisonous or not. \n",
    "        result = False\n",
    "        for feature, value in self.hypothesis():\n",
    "            result = eval(f\"fruit.{feature[:-1]}\") == value\n",
    "        return(result)\n",
    "            "
   ]
  },
  {
   "cell_type": "code",
   "execution_count": 92,
   "id": "8ea28629",
   "metadata": {},
   "outputs": [
    {
     "data": {
      "text/plain": [
       "'sphere'"
      ]
     },
     "execution_count": 92,
     "metadata": {},
     "output_type": "execute_result"
    }
   ],
   "source": [
    "eval(f\"f2.shape\") "
   ]
  },
  {
   "cell_type": "code",
   "execution_count": 111,
   "id": "f9d4dcd3",
   "metadata": {},
   "outputs": [],
   "source": [
    "def is_poisonous(fruit): \n",
    "    return(fruit.shape == \"sphere\" or fruit.color=='purple')\n",
    "data = add_data(is_poisonous)\n",
    "HM = HierarchicalModel(data)"
   ]
  },
  {
   "cell_type": "code",
   "execution_count": 109,
   "id": "209e79f5",
   "metadata": {},
   "outputs": [
    {
     "data": {
      "text/html": [
       "<div>\n",
       "<style scoped>\n",
       "    .dataframe tbody tr th:only-of-type {\n",
       "        vertical-align: middle;\n",
       "    }\n",
       "\n",
       "    .dataframe tbody tr th {\n",
       "        vertical-align: top;\n",
       "    }\n",
       "\n",
       "    .dataframe thead th {\n",
       "        text-align: right;\n",
       "    }\n",
       "</style>\n",
       "<table border=\"1\" class=\"dataframe\">\n",
       "  <thead>\n",
       "    <tr style=\"text-align: right;\">\n",
       "      <th></th>\n",
       "      <th>colors</th>\n",
       "      <th>textures</th>\n",
       "      <th>shapes</th>\n",
       "      <th>poisonous</th>\n",
       "    </tr>\n",
       "  </thead>\n",
       "  <tbody>\n",
       "    <tr>\n",
       "      <th>0</th>\n",
       "      <td>0</td>\n",
       "      <td>0</td>\n",
       "      <td>0</td>\n",
       "      <td>1</td>\n",
       "    </tr>\n",
       "    <tr>\n",
       "      <th>1</th>\n",
       "      <td>3</td>\n",
       "      <td>2</td>\n",
       "      <td>0</td>\n",
       "      <td>1</td>\n",
       "    </tr>\n",
       "    <tr>\n",
       "      <th>2</th>\n",
       "      <td>1</td>\n",
       "      <td>2</td>\n",
       "      <td>1</td>\n",
       "      <td>1</td>\n",
       "    </tr>\n",
       "    <tr>\n",
       "      <th>3</th>\n",
       "      <td>3</td>\n",
       "      <td>0</td>\n",
       "      <td>1</td>\n",
       "      <td>0</td>\n",
       "    </tr>\n",
       "    <tr>\n",
       "      <th>4</th>\n",
       "      <td>0</td>\n",
       "      <td>0</td>\n",
       "      <td>1</td>\n",
       "      <td>0</td>\n",
       "    </tr>\n",
       "    <tr>\n",
       "      <th>5</th>\n",
       "      <td>2</td>\n",
       "      <td>0</td>\n",
       "      <td>2</td>\n",
       "      <td>0</td>\n",
       "    </tr>\n",
       "    <tr>\n",
       "      <th>6</th>\n",
       "      <td>1</td>\n",
       "      <td>1</td>\n",
       "      <td>0</td>\n",
       "      <td>1</td>\n",
       "    </tr>\n",
       "    <tr>\n",
       "      <th>7</th>\n",
       "      <td>3</td>\n",
       "      <td>2</td>\n",
       "      <td>0</td>\n",
       "      <td>1</td>\n",
       "    </tr>\n",
       "    <tr>\n",
       "      <th>8</th>\n",
       "      <td>1</td>\n",
       "      <td>0</td>\n",
       "      <td>0</td>\n",
       "      <td>1</td>\n",
       "    </tr>\n",
       "    <tr>\n",
       "      <th>9</th>\n",
       "      <td>2</td>\n",
       "      <td>2</td>\n",
       "      <td>2</td>\n",
       "      <td>0</td>\n",
       "    </tr>\n",
       "  </tbody>\n",
       "</table>\n",
       "</div>"
      ],
      "text/plain": [
       "   colors  textures  shapes  poisonous\n",
       "0       0         0       0          1\n",
       "1       3         2       0          1\n",
       "2       1         2       1          1\n",
       "3       3         0       1          0\n",
       "4       0         0       1          0\n",
       "5       2         0       2          0\n",
       "6       1         1       0          1\n",
       "7       3         2       0          1\n",
       "8       1         0       0          1\n",
       "9       2         2       2          0"
      ]
     },
     "execution_count": 109,
     "metadata": {},
     "output_type": "execute_result"
    }
   ],
   "source": [
    "data"
   ]
  },
  {
   "cell_type": "code",
   "execution_count": 105,
   "id": "0bc085a4",
   "metadata": {},
   "outputs": [],
   "source": [
    "fruit = Fruit(\"purple\", \"smooth\", \"sphere\", is_poisonous)"
   ]
  },
  {
   "cell_type": "code",
   "execution_count": 106,
   "id": "432b36f7",
   "metadata": {},
   "outputs": [
    {
     "data": {
      "text/plain": [
       "False"
      ]
     },
     "execution_count": 106,
     "metadata": {},
     "output_type": "execute_result"
    }
   ],
   "source": [
    "HM.is_poisonous(fruit)"
   ]
  },
  {
   "cell_type": "code",
   "execution_count": 107,
   "id": "86af825b",
   "metadata": {},
   "outputs": [
    {
     "name": "stdout",
     "output_type": "stream",
     "text": [
      "[colors, textures, shapes, poisonous, ]\n",
      "colors-->poisonous\n",
      "shapes-->poisonous\n",
      "\n",
      "colors unknown\n"
     ]
    }
   ],
   "source": [
    "print(HM.LevelTwo)\n",
    "for a, b in HM.hypothesis():\n",
    "    print(a,b)"
   ]
  },
  {
   "cell_type": "code",
   "execution_count": 102,
   "id": "89d31cdb",
   "metadata": {},
   "outputs": [
    {
     "data": {
      "text/html": [
       "<div>\n",
       "<style scoped>\n",
       "    .dataframe tbody tr th:only-of-type {\n",
       "        vertical-align: middle;\n",
       "    }\n",
       "\n",
       "    .dataframe tbody tr th {\n",
       "        vertical-align: top;\n",
       "    }\n",
       "\n",
       "    .dataframe thead th {\n",
       "        text-align: right;\n",
       "    }\n",
       "</style>\n",
       "<table border=\"1\" class=\"dataframe\">\n",
       "  <thead>\n",
       "    <tr style=\"text-align: right;\">\n",
       "      <th></th>\n",
       "      <th>colors</th>\n",
       "      <th>textures</th>\n",
       "      <th>shapes</th>\n",
       "      <th>poisonous</th>\n",
       "    </tr>\n",
       "  </thead>\n",
       "  <tbody>\n",
       "    <tr>\n",
       "      <th>1</th>\n",
       "      <td>2</td>\n",
       "      <td>2</td>\n",
       "      <td>0</td>\n",
       "      <td>1</td>\n",
       "    </tr>\n",
       "    <tr>\n",
       "      <th>2</th>\n",
       "      <td>1</td>\n",
       "      <td>1</td>\n",
       "      <td>1</td>\n",
       "      <td>1</td>\n",
       "    </tr>\n",
       "    <tr>\n",
       "      <th>5</th>\n",
       "      <td>0</td>\n",
       "      <td>2</td>\n",
       "      <td>0</td>\n",
       "      <td>1</td>\n",
       "    </tr>\n",
       "    <tr>\n",
       "      <th>6</th>\n",
       "      <td>1</td>\n",
       "      <td>0</td>\n",
       "      <td>1</td>\n",
       "      <td>1</td>\n",
       "    </tr>\n",
       "    <tr>\n",
       "      <th>7</th>\n",
       "      <td>3</td>\n",
       "      <td>2</td>\n",
       "      <td>0</td>\n",
       "      <td>1</td>\n",
       "    </tr>\n",
       "  </tbody>\n",
       "</table>\n",
       "</div>"
      ],
      "text/plain": [
       "   colors  textures  shapes  poisonous\n",
       "1       2         2       0          1\n",
       "2       1         1       1          1\n",
       "5       0         2       0          1\n",
       "6       1         0       1          1\n",
       "7       3         2       0          1"
      ]
     },
     "execution_count": 102,
     "metadata": {},
     "output_type": "execute_result"
    }
   ],
   "source": [
    "data[data['poisonous']==1]"
   ]
  },
  {
   "cell_type": "code",
   "execution_count": 435,
   "id": "4136610d",
   "metadata": {},
   "outputs": [],
   "source": [
    "def evaluate_model(feature, value, n):\n",
    "    def poison_func(fruit): \n",
    "        return(eval(f\"fruit.{feature[:-1]}\") == value)\n",
    "    data = add_data(poison_func, n)\n",
    "    try:\n",
    "        HM = HierarchicalModel(data)\n",
    "        feature_guess, value_guess = HM.hypothesis().split()\n",
    "        match = feature == feature_guess and value==value_guess\n",
    "        return(match, (data,HM))\n",
    "    except Exception:\n",
    "        print(\"some error occurred\")\n",
    "        return(False, data, Exception)"
   ]
  },
  {
   "cell_type": "code",
   "execution_count": 28,
   "id": "f683f6c6",
   "metadata": {},
   "outputs": [
    {
     "name": "stdout",
     "output_type": "stream",
     "text": [
      "4\n"
     ]
    }
   ],
   "source": [
    "for i,j in [[0,4]]:\n",
    "    print(j)\n"
   ]
  },
  {
   "cell_type": "code",
   "execution_count": 458,
   "id": "4f1efec6",
   "metadata": {},
   "outputs": [],
   "source": [
    "def getAccuracies():\n",
    "    colors = \"red purple blue green\".split()\n",
    "    textures = \"smooth spiky rough\".split()\n",
    "    shapes = \"sphere cube star\".split()\n",
    "    num_trials = 100\n",
    "    \n",
    "    num_fruits = [1,3,5,6,8,10,15,20,30] # number of samples to try\n",
    "    accuracies = [] # accuracy dependent on num_fruits seen\n",
    "    \n",
    "    for n in num_fruits:\n",
    "        counter = 0.0\n",
    "        for trial in range(num_trials): # average accuracy over multiple trials\n",
    "            feature = random.choice(\"colors textures shapes\".split()) # choose causal feature\n",
    "            value = random.choice(eval(feature)) # choose which value makes a fruit poisonous\n",
    "            def poison_func(fruit): \n",
    "                return(eval(f\"fruit.{feature[:-1]}\") == value)\n",
    "            data = add_data(poison_func, n)\n",
    "            try:\n",
    "                HM = HierarchicalModel(data)\n",
    "                feature_guess, value_guess = HM.hypothesis().split(\",\")[0].split()\n",
    "                match = feature == feature_guess and value==value_guess\n",
    "                counter += int(match)\n",
    "            except:\n",
    "                pass\n",
    "        accuracies.append(counter / num_trials)\n",
    "    return(num_fruits, accuracies) "
   ]
  },
  {
   "cell_type": "code",
   "execution_count": 459,
   "id": "2ccfe2d3",
   "metadata": {},
   "outputs": [],
   "source": [
    "x2, y2 = getAccuracies()"
   ]
  },
  {
   "cell_type": "code",
   "execution_count": 452,
   "id": "5aff8ebf",
   "metadata": {},
   "outputs": [
    {
     "data": {
      "text/plain": [
       "[(1, 0.0),\n",
       " (3, 0.3),\n",
       " (5, 0.43),\n",
       " (6, 0.63),\n",
       " (8, 0.8),\n",
       " (10, 0.9),\n",
       " (15, 0.98),\n",
       " (20, 0.98),\n",
       " (30, 0.99),\n",
       " (40, 1.0)]"
      ]
     },
     "execution_count": 452,
     "metadata": {},
     "output_type": "execute_result"
    }
   ],
   "source": [
    "list(zip(x,y))"
   ]
  },
  {
   "cell_type": "code",
   "execution_count": 112,
   "id": "9d186463",
   "metadata": {},
   "outputs": [
    {
     "data": {
      "text/plain": [
       "['smooth', 'spiky', 'rough']"
      ]
     },
     "execution_count": 112,
     "metadata": {},
     "output_type": "execute_result"
    }
   ],
   "source": [
    "textures"
   ]
  },
  {
   "cell_type": "code",
   "execution_count": 460,
   "id": "e8eb632b",
   "metadata": {
    "scrolled": true
   },
   "outputs": [
    {
     "data": {
      "text/plain": [
       "[(1, 0.0),\n",
       " (3, 0.28),\n",
       " (5, 0.57),\n",
       " (6, 0.65),\n",
       " (8, 0.87),\n",
       " (10, 0.9),\n",
       " (15, 0.94),\n",
       " (20, 0.97),\n",
       " (30, 1.0)]"
      ]
     },
     "execution_count": 460,
     "metadata": {},
     "output_type": "execute_result"
    }
   ],
   "source": [
    "list(zip(x2,y2))"
   ]
  },
  {
   "cell_type": "code",
   "execution_count": 463,
   "id": "3c413924",
   "metadata": {},
   "outputs": [
    {
     "data": {
      "image/png": "[encoded data removed]",
      "text/plain": [
       "<Figure size 640x480 with 1 Axes>"
      ]
     },
     "metadata": {},
     "output_type": "display_data"
    }
   ],
   "source": [
    "plt.plot(x2, y2)\n",
    "plt.xlabel(\"Fruit Samples\")\n",
    "plt.ylabel(\"Accuracy\")\n",
    "plt.title(\"Experiment One: Sample Efficiency of Hierarchical Model\")\n",
    "plt.savefig(\"Experiment One\")"
   ]
  },
  {
   "cell_type": "code",
   "execution_count": 241,
   "id": "e47a2b15",
   "metadata": {
    "scrolled": true
   },
   "outputs": [
    {
     "data": {
      "text/plain": [
       "(False,\n",
       " (   colors  textures  shapes  poisonous\n",
       "  0       1         1       2          0\n",
       "  1       1         0       2          0\n",
       "  2       3         2       2          0\n",
       "  3       2         0       0          0\n",
       "  4       0         0       2          1\n",
       "  5       0         2       2          1\n",
       "  6       3         2       2          0\n",
       "  7       1         1       0          0\n",
       "  8       1         1       2          0\n",
       "  9       0         2       2          1,\n",
       "  <__main__.HierarchicalModel at 0x7fcd6361dab0>))"
      ]
     },
     "execution_count": 241,
     "metadata": {},
     "output_type": "execute_result"
    }
   ],
   "source": [
    "plt.plot()"
   ]
  },
  {
   "cell_type": "code",
   "execution_count": 391,
   "id": "a641743f",
   "metadata": {},
   "outputs": [
    {
     "name": "stdout",
     "output_type": "stream",
     "text": [
      "some error occurred\n"
     ]
    },
    {
     "data": {
      "text/html": [
       "<div>\n",
       "<style scoped>\n",
       "    .dataframe tbody tr th:only-of-type {\n",
       "        vertical-align: middle;\n",
       "    }\n",
       "\n",
       "    .dataframe tbody tr th {\n",
       "        vertical-align: top;\n",
       "    }\n",
       "\n",
       "    .dataframe thead th {\n",
       "        text-align: right;\n",
       "    }\n",
       "</style>\n",
       "<table border=\"1\" class=\"dataframe\">\n",
       "  <thead>\n",
       "    <tr style=\"text-align: right;\">\n",
       "      <th></th>\n",
       "      <th>colors</th>\n",
       "      <th>textures</th>\n",
       "      <th>shapes</th>\n",
       "      <th>poisonous</th>\n",
       "    </tr>\n",
       "  </thead>\n",
       "  <tbody>\n",
       "    <tr>\n",
       "      <th>0</th>\n",
       "      <td>0</td>\n",
       "      <td>1</td>\n",
       "      <td>1</td>\n",
       "      <td>1</td>\n",
       "    </tr>\n",
       "    <tr>\n",
       "      <th>1</th>\n",
       "      <td>3</td>\n",
       "      <td>0</td>\n",
       "      <td>2</td>\n",
       "      <td>0</td>\n",
       "    </tr>\n",
       "    <tr>\n",
       "      <th>2</th>\n",
       "      <td>0</td>\n",
       "      <td>1</td>\n",
       "      <td>0</td>\n",
       "      <td>1</td>\n",
       "    </tr>\n",
       "    <tr>\n",
       "      <th>3</th>\n",
       "      <td>0</td>\n",
       "      <td>1</td>\n",
       "      <td>2</td>\n",
       "      <td>1</td>\n",
       "    </tr>\n",
       "    <tr>\n",
       "      <th>4</th>\n",
       "      <td>3</td>\n",
       "      <td>2</td>\n",
       "      <td>0</td>\n",
       "      <td>0</td>\n",
       "    </tr>\n",
       "    <tr>\n",
       "      <th>5</th>\n",
       "      <td>2</td>\n",
       "      <td>1</td>\n",
       "      <td>0</td>\n",
       "      <td>0</td>\n",
       "    </tr>\n",
       "    <tr>\n",
       "      <th>6</th>\n",
       "      <td>3</td>\n",
       "      <td>1</td>\n",
       "      <td>2</td>\n",
       "      <td>0</td>\n",
       "    </tr>\n",
       "    <tr>\n",
       "      <th>7</th>\n",
       "      <td>1</td>\n",
       "      <td>1</td>\n",
       "      <td>1</td>\n",
       "      <td>0</td>\n",
       "    </tr>\n",
       "    <tr>\n",
       "      <th>8</th>\n",
       "      <td>2</td>\n",
       "      <td>2</td>\n",
       "      <td>0</td>\n",
       "      <td>0</td>\n",
       "    </tr>\n",
       "    <tr>\n",
       "      <th>9</th>\n",
       "      <td>2</td>\n",
       "      <td>2</td>\n",
       "      <td>1</td>\n",
       "      <td>0</td>\n",
       "    </tr>\n",
       "  </tbody>\n",
       "</table>\n",
       "</div>"
      ],
      "text/plain": [
       "   colors  textures  shapes  poisonous\n",
       "0       0         1       1          1\n",
       "1       3         0       2          0\n",
       "2       0         1       0          1\n",
       "3       0         1       2          1\n",
       "4       3         2       0          0\n",
       "5       2         1       0          0\n",
       "6       3         1       2          0\n",
       "7       1         1       1          0\n",
       "8       2         2       0          0\n",
       "9       2         2       1          0"
      ]
     },
     "execution_count": 391,
     "metadata": {},
     "output_type": "execute_result"
    }
   ],
   "source": [
    "data, info = evaluate_model('colors', 'red', 10)\n",
    "data"
   ]
  },
  {
   "cell_type": "code",
   "execution_count": 386,
   "id": "dccf3ba6",
   "metadata": {},
   "outputs": [
    {
     "data": {
      "text/plain": [
       "(   colors  textures  shapes  poisonous\n",
       " 0       3         2       0          0\n",
       " 1       1         1       0          0\n",
       " 2       0         0       0          1\n",
       " 3       2         0       2          0\n",
       " 4       3         0       1          0\n",
       " 5       0         0       0          1\n",
       " 6       3         1       2          0\n",
       " 7       0         0       2          1\n",
       " 8       2         0       1          0\n",
       " 9       2         0       0          0,\n",
       " <__main__.HierarchicalModel at 0x7fcd6370f370>)"
      ]
     },
     "execution_count": 386,
     "metadata": {},
     "output_type": "execute_result"
    }
   ],
   "source": [
    "info"
   ]
  },
  {
   "cell_type": "code",
   "execution_count": 392,
   "id": "ee980120",
   "metadata": {},
   "outputs": [
    {
     "data": {
      "text/plain": [
       "[<class '__main__.CausalLink'>::colors-->poisonous,\n",
       " <class '__main__.CausalLink'>::textures-->poisonous]"
      ]
     },
     "execution_count": 392,
     "metadata": {},
     "output_type": "execute_result"
    }
   ],
   "source": [
    "HM = HierarchicalModel(data)\n",
    "HM.LevelTwo.edges"
   ]
  },
  {
   "cell_type": "code",
   "execution_count": 404,
   "id": "7b24ddd0",
   "metadata": {},
   "outputs": [],
   "source": [
    "HM.hypothesis()"
   ]
  },
  {
   "cell_type": "code",
   "execution_count": 393,
   "id": "c3afb081",
   "metadata": {},
   "outputs": [
    {
     "data": {
      "text/plain": [
       "{'colors': [1.4488156357251847, 0.0],\n",
       " 'textures': [1.4488156357251847, 0.0],\n",
       " 'shapes': [1.5566567074628228, 1.584962500721156]}"
      ]
     },
     "execution_count": 393,
     "metadata": {},
     "output_type": "execute_result"
    }
   ],
   "source": [
    "HM.entropies"
   ]
  },
  {
   "cell_type": "code",
   "execution_count": 405,
   "id": "cf128588",
   "metadata": {},
   "outputs": [],
   "source": [
    "causes = [edge.cause.name for edge in HM.LevelTwo.edges]\n",
    "cols = HM.LevelOne[1][causes]\n",
    "indices = np.where(cols==1.0)\n",
    "if(len(indices[0])==1):\n",
    "    print(f\"{causes[0]} {eval(causes[0])[indices[0][0]]}\")"
   ]
  },
  {
   "cell_type": "code",
   "execution_count": 397,
   "id": "8fdf1631",
   "metadata": {},
   "outputs": [
    {
     "data": {
      "text/plain": [
       "(array([0, 1]), array([0, 1]))"
      ]
     },
     "execution_count": 397,
     "metadata": {},
     "output_type": "execute_result"
    }
   ],
   "source": [
    "indices"
   ]
  },
  {
   "cell_type": "code",
   "execution_count": 408,
   "id": "84a46494",
   "metadata": {},
   "outputs": [
    {
     "data": {
      "text/html": [
       "<div>\n",
       "<style scoped>\n",
       "    .dataframe tbody tr th:only-of-type {\n",
       "        vertical-align: middle;\n",
       "    }\n",
       "\n",
       "    .dataframe tbody tr th {\n",
       "        vertical-align: top;\n",
       "    }\n",
       "\n",
       "    .dataframe thead th {\n",
       "        text-align: right;\n",
       "    }\n",
       "</style>\n",
       "<table border=\"1\" class=\"dataframe\">\n",
       "  <thead>\n",
       "    <tr style=\"text-align: right;\">\n",
       "      <th></th>\n",
       "      <th>colors</th>\n",
       "      <th>textures</th>\n",
       "      <th>shapes</th>\n",
       "      <th>poisonous</th>\n",
       "    </tr>\n",
       "  </thead>\n",
       "  <tbody>\n",
       "    <tr>\n",
       "      <th>0</th>\n",
       "      <td>0</td>\n",
       "      <td>1</td>\n",
       "      <td>1</td>\n",
       "      <td>1</td>\n",
       "    </tr>\n",
       "    <tr>\n",
       "      <th>1</th>\n",
       "      <td>3</td>\n",
       "      <td>0</td>\n",
       "      <td>2</td>\n",
       "      <td>0</td>\n",
       "    </tr>\n",
       "    <tr>\n",
       "      <th>2</th>\n",
       "      <td>0</td>\n",
       "      <td>1</td>\n",
       "      <td>0</td>\n",
       "      <td>1</td>\n",
       "    </tr>\n",
       "    <tr>\n",
       "      <th>3</th>\n",
       "      <td>0</td>\n",
       "      <td>1</td>\n",
       "      <td>2</td>\n",
       "      <td>1</td>\n",
       "    </tr>\n",
       "    <tr>\n",
       "      <th>4</th>\n",
       "      <td>3</td>\n",
       "      <td>2</td>\n",
       "      <td>0</td>\n",
       "      <td>0</td>\n",
       "    </tr>\n",
       "    <tr>\n",
       "      <th>5</th>\n",
       "      <td>2</td>\n",
       "      <td>1</td>\n",
       "      <td>0</td>\n",
       "      <td>0</td>\n",
       "    </tr>\n",
       "    <tr>\n",
       "      <th>6</th>\n",
       "      <td>3</td>\n",
       "      <td>1</td>\n",
       "      <td>2</td>\n",
       "      <td>0</td>\n",
       "    </tr>\n",
       "    <tr>\n",
       "      <th>7</th>\n",
       "      <td>1</td>\n",
       "      <td>1</td>\n",
       "      <td>1</td>\n",
       "      <td>0</td>\n",
       "    </tr>\n",
       "    <tr>\n",
       "      <th>8</th>\n",
       "      <td>2</td>\n",
       "      <td>2</td>\n",
       "      <td>0</td>\n",
       "      <td>0</td>\n",
       "    </tr>\n",
       "    <tr>\n",
       "      <th>9</th>\n",
       "      <td>2</td>\n",
       "      <td>2</td>\n",
       "      <td>1</td>\n",
       "      <td>0</td>\n",
       "    </tr>\n",
       "  </tbody>\n",
       "</table>\n",
       "</div>"
      ],
      "text/plain": [
       "   colors  textures  shapes  poisonous\n",
       "0       0         1       1          1\n",
       "1       3         0       2          0\n",
       "2       0         1       0          1\n",
       "3       0         1       2          1\n",
       "4       3         2       0          0\n",
       "5       2         1       0          0\n",
       "6       3         1       2          0\n",
       "7       1         1       1          0\n",
       "8       2         2       0          0\n",
       "9       2         2       1          0"
      ]
     },
     "execution_count": 408,
     "metadata": {},
     "output_type": "execute_result"
    }
   ],
   "source": [
    "data"
   ]
  },
  {
   "cell_type": "code",
   "execution_count": 409,
   "id": "352d69dc",
   "metadata": {},
   "outputs": [
    {
     "data": {
      "text/plain": [
       "(array([0, 1]), array([0, 1]))"
      ]
     },
     "execution_count": 409,
     "metadata": {},
     "output_type": "execute_result"
    }
   ],
   "source": [
    "indices"
   ]
  },
  {
   "cell_type": "code",
   "execution_count": 406,
   "id": "1b4dd6b3",
   "metadata": {
    "scrolled": true
   },
   "outputs": [
    {
     "data": {
      "text/html": [
       "<div>\n",
       "<style scoped>\n",
       "    .dataframe tbody tr th:only-of-type {\n",
       "        vertical-align: middle;\n",
       "    }\n",
       "\n",
       "    .dataframe tbody tr th {\n",
       "        vertical-align: top;\n",
       "    }\n",
       "\n",
       "    .dataframe thead th {\n",
       "        text-align: right;\n",
       "    }\n",
       "</style>\n",
       "<table border=\"1\" class=\"dataframe\">\n",
       "  <thead>\n",
       "    <tr style=\"text-align: right;\">\n",
       "      <th></th>\n",
       "      <th>colors</th>\n",
       "      <th>textures</th>\n",
       "    </tr>\n",
       "  </thead>\n",
       "  <tbody>\n",
       "    <tr>\n",
       "      <th>0</th>\n",
       "      <td>1.0</td>\n",
       "      <td>0.0</td>\n",
       "    </tr>\n",
       "    <tr>\n",
       "      <th>1</th>\n",
       "      <td>0.0</td>\n",
       "      <td>1.0</td>\n",
       "    </tr>\n",
       "    <tr>\n",
       "      <th>2</th>\n",
       "      <td>0.0</td>\n",
       "      <td>0.0</td>\n",
       "    </tr>\n",
       "    <tr>\n",
       "      <th>3</th>\n",
       "      <td>0.0</td>\n",
       "      <td>0.0</td>\n",
       "    </tr>\n",
       "  </tbody>\n",
       "</table>\n",
       "</div>"
      ],
      "text/plain": [
       "   colors  textures\n",
       "0     1.0       0.0\n",
       "1     0.0       1.0\n",
       "2     0.0       0.0\n",
       "3     0.0       0.0"
      ]
     },
     "execution_count": 406,
     "metadata": {},
     "output_type": "execute_result"
    }
   ],
   "source": [
    "HM.LevelOne[1][causes]"
   ]
  },
  {
   "cell_type": "code",
   "execution_count": 368,
   "id": "42562f7f",
   "metadata": {},
   "outputs": [
    {
     "data": {
      "text/plain": [
       "['colors']"
      ]
     },
     "execution_count": 368,
     "metadata": {},
     "output_type": "execute_result"
    }
   ],
   "source": [
    "causes"
   ]
  },
  {
   "cell_type": "code",
   "execution_count": 328,
   "id": "742b043d",
   "metadata": {},
   "outputs": [
    {
     "data": {
      "text/html": [
       "<div>\n",
       "<style scoped>\n",
       "    .dataframe tbody tr th:only-of-type {\n",
       "        vertical-align: middle;\n",
       "    }\n",
       "\n",
       "    .dataframe tbody tr th {\n",
       "        vertical-align: top;\n",
       "    }\n",
       "\n",
       "    .dataframe thead th {\n",
       "        text-align: right;\n",
       "    }\n",
       "</style>\n",
       "<table border=\"1\" class=\"dataframe\">\n",
       "  <thead>\n",
       "    <tr style=\"text-align: right;\">\n",
       "      <th></th>\n",
       "      <th>colors</th>\n",
       "      <th>textures</th>\n",
       "    </tr>\n",
       "  </thead>\n",
       "  <tbody>\n",
       "    <tr>\n",
       "      <th>0</th>\n",
       "      <td>0.0</td>\n",
       "      <td>0.3</td>\n",
       "    </tr>\n",
       "    <tr>\n",
       "      <th>1</th>\n",
       "      <td>0.2</td>\n",
       "      <td>0.3</td>\n",
       "    </tr>\n",
       "    <tr>\n",
       "      <th>2</th>\n",
       "      <td>0.8</td>\n",
       "      <td>0.4</td>\n",
       "    </tr>\n",
       "    <tr>\n",
       "      <th>3</th>\n",
       "      <td>0.0</td>\n",
       "      <td>0.0</td>\n",
       "    </tr>\n",
       "  </tbody>\n",
       "</table>\n",
       "</div>"
      ],
      "text/plain": [
       "   colors  textures\n",
       "0     0.0       0.3\n",
       "1     0.2       0.3\n",
       "2     0.8       0.4\n",
       "3     0.0       0.0"
      ]
     },
     "execution_count": 328,
     "metadata": {},
     "output_type": "execute_result"
    }
   ],
   "source": [
    "HM.LevelOne[0][['colors', 'textures']]"
   ]
  },
  {
   "cell_type": "code",
   "execution_count": 331,
   "id": "edaf0725",
   "metadata": {},
   "outputs": [
    {
     "data": {
      "text/plain": [
       "(array([0, 1]), array([1, 1]))"
      ]
     },
     "execution_count": 331,
     "metadata": {},
     "output_type": "execute_result"
    }
   ],
   "source": [
    "np.where(HM.LevelOne[0][['colors', 'textures']]==0.3)"
   ]
  },
  {
   "cell_type": "code",
   "execution_count": 248,
   "id": "e3288768",
   "metadata": {},
   "outputs": [
    {
     "data": {
      "text/plain": [
       "'shapes cube'"
      ]
     },
     "execution_count": 248,
     "metadata": {},
     "output_type": "execute_result"
    }
   ],
   "source": [
    "HM.hypothesis()"
   ]
  },
  {
   "cell_type": "code",
   "execution_count": 237,
   "id": "a4213c37",
   "metadata": {},
   "outputs": [
    {
     "data": {
      "text/plain": [
       "{0:      colors  textures    shapes\n",
       " 0  0.000000  0.333333  0.111111\n",
       " 1  0.333333  0.333333  0.777778\n",
       " 2  0.333333  0.333333  0.111111\n",
       " 3  0.333333  0.000000  0.000000,\n",
       " 1:    colors  textures  shapes\n",
       " 0     1.0       1.0     1.0\n",
       " 1     0.0       0.0     0.0\n",
       " 2     0.0       0.0     0.0\n",
       " 3     0.0       0.0     0.0}"
      ]
     },
     "execution_count": 237,
     "metadata": {},
     "output_type": "execute_result"
    }
   ],
   "source": [
    "a[1][1].LevelOne"
   ]
  },
  {
   "cell_type": "markdown",
   "id": "81aa3f30",
   "metadata": {},
   "source": [
    "### Comparison to Gopnik"
   ]
  },
  {
   "cell_type": "code",
   "execution_count": 52,
   "id": "66293d6d",
   "metadata": {},
   "outputs": [
    {
     "data": {
      "text/html": [
       "<div>\n",
       "<style scoped>\n",
       "    .dataframe tbody tr th:only-of-type {\n",
       "        vertical-align: middle;\n",
       "    }\n",
       "\n",
       "    .dataframe tbody tr th {\n",
       "        vertical-align: top;\n",
       "    }\n",
       "\n",
       "    .dataframe thead th {\n",
       "        text-align: right;\n",
       "    }\n",
       "</style>\n",
       "<table border=\"1\" class=\"dataframe\">\n",
       "  <thead>\n",
       "    <tr style=\"text-align: right;\">\n",
       "      <th></th>\n",
       "      <th>colors</th>\n",
       "      <th>textures</th>\n",
       "      <th>shapes</th>\n",
       "      <th>poisonous</th>\n",
       "    </tr>\n",
       "  </thead>\n",
       "  <tbody>\n",
       "    <tr>\n",
       "      <th>0</th>\n",
       "      <td>1</td>\n",
       "      <td>0</td>\n",
       "      <td>0</td>\n",
       "      <td>0</td>\n",
       "    </tr>\n",
       "    <tr>\n",
       "      <th>1</th>\n",
       "      <td>0</td>\n",
       "      <td>2</td>\n",
       "      <td>0</td>\n",
       "      <td>0</td>\n",
       "    </tr>\n",
       "    <tr>\n",
       "      <th>2</th>\n",
       "      <td>2</td>\n",
       "      <td>2</td>\n",
       "      <td>2</td>\n",
       "      <td>1</td>\n",
       "    </tr>\n",
       "  </tbody>\n",
       "</table>\n",
       "</div>"
      ],
      "text/plain": [
       "   colors  textures  shapes  poisonous\n",
       "0       1         0       0          0\n",
       "1       0         2       0          0\n",
       "2       2         2       2          1"
      ]
     },
     "execution_count": 52,
     "metadata": {},
     "output_type": "execute_result"
    }
   ],
   "source": [
    "def poison_func(fruit):\n",
    "    return(fruit.shape == 'star')\n",
    "HM = HierarchicalModel(add_data(poison_func))\n",
    "\n",
    "f1 = Fruit(\"purple\", \"smooth\", \"sphere\", poison_func)\n",
    "f2 = Fruit(\"red\", \"rough\", \"sphere\", poison_func)\n",
    "f3 = Fruit(\"blue\", \"rough\", \"star\", poison_func)\n",
    "def add_data_from_fruits(fruits):\n",
    "    df = pd.DataFrame(columns=\"colors textures shapes poisonous\".split())\n",
    "    for fruit in fruits:\n",
    "        df.loc[len(df.index)] = [colors.index(fruit.color), textures.index(fruit.texture), shapes.index(fruit.shape), int(fruit.is_poisonous())]\n",
    "    return(df)\n",
    "add_data_from_fruits([f1,f2,f3])"
   ]
  },
  {
   "cell_type": "code",
   "execution_count": 53,
   "id": "71fecd0e",
   "metadata": {},
   "outputs": [
    {
     "data": {
      "text/plain": [
       "[['shapes', 'star']]"
      ]
     },
     "execution_count": 53,
     "metadata": {},
     "output_type": "execute_result"
    }
   ],
   "source": [
    "HM = HierarchicalModel(add_data_from_fruits([f1,f2,f3]))\n",
    "HM.hypothesis()"
   ]
  },
  {
   "cell_type": "code",
   "execution_count": 49,
   "id": "9b13c4ee",
   "metadata": {},
   "outputs": [
    {
     "data": {
      "text/plain": [
       "True"
      ]
     },
     "execution_count": 49,
     "metadata": {},
     "output_type": "execute_result"
    }
   ],
   "source": [
    "HM.is_poisonous(f3)"
   ]
  },
  {
   "cell_type": "code",
   "execution_count": null,
   "id": "f213a889",
   "metadata": {},
   "outputs": [],
   "source": []
  },
  {
   "cell_type": "code",
   "execution_count": 224,
   "id": "ebc37100",
   "metadata": {},
   "outputs": [
    {
     "data": {
      "text/html": [
       "<div>\n",
       "<style scoped>\n",
       "    .dataframe tbody tr th:only-of-type {\n",
       "        vertical-align: middle;\n",
       "    }\n",
       "\n",
       "    .dataframe tbody tr th {\n",
       "        vertical-align: top;\n",
       "    }\n",
       "\n",
       "    .dataframe thead th {\n",
       "        text-align: right;\n",
       "    }\n",
       "</style>\n",
       "<table border=\"1\" class=\"dataframe\">\n",
       "  <thead>\n",
       "    <tr style=\"text-align: right;\">\n",
       "      <th></th>\n",
       "      <th>colors</th>\n",
       "      <th>textures</th>\n",
       "      <th>shapes</th>\n",
       "      <th>poisonous</th>\n",
       "    </tr>\n",
       "  </thead>\n",
       "  <tbody>\n",
       "    <tr>\n",
       "      <th>0</th>\n",
       "      <td>2</td>\n",
       "      <td>1</td>\n",
       "      <td>2</td>\n",
       "      <td>0</td>\n",
       "    </tr>\n",
       "    <tr>\n",
       "      <th>1</th>\n",
       "      <td>3</td>\n",
       "      <td>0</td>\n",
       "      <td>0</td>\n",
       "      <td>0</td>\n",
       "    </tr>\n",
       "    <tr>\n",
       "      <th>2</th>\n",
       "      <td>2</td>\n",
       "      <td>1</td>\n",
       "      <td>2</td>\n",
       "      <td>0</td>\n",
       "    </tr>\n",
       "    <tr>\n",
       "      <th>3</th>\n",
       "      <td>0</td>\n",
       "      <td>1</td>\n",
       "      <td>1</td>\n",
       "      <td>1</td>\n",
       "    </tr>\n",
       "    <tr>\n",
       "      <th>4</th>\n",
       "      <td>0</td>\n",
       "      <td>2</td>\n",
       "      <td>0</td>\n",
       "      <td>1</td>\n",
       "    </tr>\n",
       "    <tr>\n",
       "      <th>5</th>\n",
       "      <td>0</td>\n",
       "      <td>0</td>\n",
       "      <td>1</td>\n",
       "      <td>1</td>\n",
       "    </tr>\n",
       "    <tr>\n",
       "      <th>6</th>\n",
       "      <td>0</td>\n",
       "      <td>0</td>\n",
       "      <td>2</td>\n",
       "      <td>1</td>\n",
       "    </tr>\n",
       "    <tr>\n",
       "      <th>7</th>\n",
       "      <td>0</td>\n",
       "      <td>0</td>\n",
       "      <td>1</td>\n",
       "      <td>1</td>\n",
       "    </tr>\n",
       "    <tr>\n",
       "      <th>8</th>\n",
       "      <td>1</td>\n",
       "      <td>1</td>\n",
       "      <td>1</td>\n",
       "      <td>0</td>\n",
       "    </tr>\n",
       "    <tr>\n",
       "      <th>9</th>\n",
       "      <td>0</td>\n",
       "      <td>2</td>\n",
       "      <td>0</td>\n",
       "      <td>1</td>\n",
       "    </tr>\n",
       "  </tbody>\n",
       "</table>\n",
       "</div>"
      ],
      "text/plain": [
       "   colors  textures  shapes  poisonous\n",
       "0       2         1       2          0\n",
       "1       3         0       0          0\n",
       "2       2         1       2          0\n",
       "3       0         1       1          1\n",
       "4       0         2       0          1\n",
       "5       0         0       1          1\n",
       "6       0         0       2          1\n",
       "7       0         0       1          1\n",
       "8       1         1       1          0\n",
       "9       0         2       0          1"
      ]
     },
     "execution_count": 224,
     "metadata": {},
     "output_type": "execute_result"
    }
   ],
   "source": [
    "a"
   ]
  },
  {
   "cell_type": "code",
   "execution_count": 212,
   "id": "52b00271",
   "metadata": {},
   "outputs": [
    {
     "data": {
      "text/plain": [
       "(   colors  textures  shapes  poisonous\n",
       " 0       2         1       1          0\n",
       " 1       0         2       1          1\n",
       " 2       1         2       1          0\n",
       " 3       3         0       0          0\n",
       " 4       0         0       2          1\n",
       " 5       0         2       1          1\n",
       " 6       1         2       2          0\n",
       " 7       2         2       1          0\n",
       " 8       1         0       2          0\n",
       " 9       3         0       2          0,\n",
       " <__main__.HierarchicalModel at 0x7fcd50593d90>)"
      ]
     },
     "execution_count": 212,
     "metadata": {},
     "output_type": "execute_result"
    }
   ],
   "source": [
    "b"
   ]
  },
  {
   "cell_type": "code",
   "execution_count": 192,
   "id": "385c1c64",
   "metadata": {},
   "outputs": [
    {
     "data": {
      "text/plain": [
       "{0:      colors  textures    shapes\n",
       " 0  0.000000  0.444444  0.222222\n",
       " 1  0.222222  0.111111  0.444444\n",
       " 2  0.333333  0.444444  0.333333\n",
       " 3  0.444444  0.000000  0.000000,\n",
       " 1:    colors  textures  shapes\n",
       " 0     1.0       1.0     0.0\n",
       " 1     0.0       0.0     1.0\n",
       " 2     0.0       0.0     0.0\n",
       " 3     0.0       0.0     0.0}"
      ]
     },
     "execution_count": 192,
     "metadata": {},
     "output_type": "execute_result"
    }
   ],
   "source": [
    "b[1].LevelOne"
   ]
  },
  {
   "cell_type": "code",
   "execution_count": 194,
   "id": "9019237a",
   "metadata": {},
   "outputs": [
    {
     "data": {
      "text/plain": [
       "{'colors': [1.5304930567574826, 0.0],\n",
       " 'textures': [1.3921472236645345, 0.0],\n",
       " 'shapes': [1.5304930567574826, 0.0]}"
      ]
     },
     "execution_count": 194,
     "metadata": {},
     "output_type": "execute_result"
    }
   ],
   "source": [
    "b[1].entropies"
   ]
  },
  {
   "cell_type": "code",
   "execution_count": null,
   "id": "a1feeb40",
   "metadata": {},
   "outputs": [],
   "source": []
  }
 ],
 "metadata": {
  "kernelspec": {
   "display_name": "Python 3 (ipykernel)",
   "language": "python",
   "name": "python3"
  },
  "language_info": {
   "codemirror_mode": {
    "name": "ipython",
    "version": 3
   },
   "file_extension": ".py",
   "mimetype": "text/x-python",
   "name": "python",
   "nbconvert_exporter": "python",
   "pygments_lexer": "ipython3",
   "version": "3.10.10"
  }
 },
 "nbformat": 4,
 "nbformat_minor": 5
}
